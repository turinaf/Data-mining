{
 "cells": [
  {
   "cell_type": "markdown",
   "id": "5603dd79",
   "metadata": {},
   "source": [
    "### Model Design stage\n",
    "We have already did data preprocessing and saved the processed dataset.\n",
    "##### Tasks to be done in this step\n",
    ">* Splitting the dataset into training dataset and testing dataset.\n",
    ">* Designing the model and trainging it\n",
    ">* Evaluating the model performance"
   ]
  },
  {
   "cell_type": "code",
   "execution_count": 1,
   "id": "229aaf22",
   "metadata": {},
   "outputs": [],
   "source": [
    "import pandas as pd\n",
    "import numpy as np\n",
    "import matplotlib.pyplot as plt\n",
    "from sklearn.model_selection import train_test_split\n",
    "from sklearn.tree import DecisionTreeClassifier\n",
    "from sklearn.preprocessing import LabelEncoder\n"
   ]
  },
  {
   "cell_type": "code",
   "execution_count": 2,
   "id": "8da47a4e",
   "metadata": {
    "scrolled": true
   },
   "outputs": [
    {
     "data": {
      "text/html": [
       "<div>\n",
       "<style scoped>\n",
       "    .dataframe tbody tr th:only-of-type {\n",
       "        vertical-align: middle;\n",
       "    }\n",
       "\n",
       "    .dataframe tbody tr th {\n",
       "        vertical-align: top;\n",
       "    }\n",
       "\n",
       "    .dataframe thead th {\n",
       "        text-align: right;\n",
       "    }\n",
       "</style>\n",
       "<table border=\"1\" class=\"dataframe\">\n",
       "  <thead>\n",
       "    <tr style=\"text-align: right;\">\n",
       "      <th></th>\n",
       "      <th>title</th>\n",
       "      <th>Running_time</th>\n",
       "      <th>Budget</th>\n",
       "      <th>Box_office</th>\n",
       "      <th>Release_date</th>\n",
       "      <th>imdb</th>\n",
       "      <th>metascore</th>\n",
       "      <th>rotten_tomatoes</th>\n",
       "      <th>Main_actor</th>\n",
       "      <th>Second_actor</th>\n",
       "      <th>Director</th>\n",
       "      <th>Category</th>\n",
       "      <th>Main_actor_rate</th>\n",
       "      <th>Director_rate</th>\n",
       "      <th>Second_actor_rate</th>\n",
       "    </tr>\n",
       "  </thead>\n",
       "  <tbody>\n",
       "    <tr>\n",
       "      <th>0</th>\n",
       "      <td>Pinocchio</td>\n",
       "      <td>88.0</td>\n",
       "      <td>2600000.0</td>\n",
       "      <td>164000000.0</td>\n",
       "      <td>1940-02-07</td>\n",
       "      <td>7.4</td>\n",
       "      <td>9.9</td>\n",
       "      <td>7.3</td>\n",
       "      <td>Cliff Edwards</td>\n",
       "      <td>Dickie Jones</td>\n",
       "      <td>Ben Sharpsteen</td>\n",
       "      <td>Blockbuster</td>\n",
       "      <td>10.0</td>\n",
       "      <td>7.50</td>\n",
       "      <td>10.000000</td>\n",
       "    </tr>\n",
       "    <tr>\n",
       "      <th>1</th>\n",
       "      <td>Fantasia</td>\n",
       "      <td>126.0</td>\n",
       "      <td>2280000.0</td>\n",
       "      <td>83300000.0</td>\n",
       "      <td>1940-11-13</td>\n",
       "      <td>7.7</td>\n",
       "      <td>9.6</td>\n",
       "      <td>9.5</td>\n",
       "      <td>Leopold Stokowski</td>\n",
       "      <td>Deems Taylor</td>\n",
       "      <td>Samuel Armstrong</td>\n",
       "      <td>Blockbuster</td>\n",
       "      <td>10.0</td>\n",
       "      <td>10.00</td>\n",
       "      <td>10.000000</td>\n",
       "    </tr>\n",
       "    <tr>\n",
       "      <th>2</th>\n",
       "      <td>Dumbo</td>\n",
       "      <td>64.0</td>\n",
       "      <td>950000.0</td>\n",
       "      <td>1300000.0</td>\n",
       "      <td>1941-10-23</td>\n",
       "      <td>7.2</td>\n",
       "      <td>9.6</td>\n",
       "      <td>9.8</td>\n",
       "      <td>Edward Brophy</td>\n",
       "      <td>Herman Bing</td>\n",
       "      <td>Ben Sharpsteen</td>\n",
       "      <td>Flop</td>\n",
       "      <td>5.0</td>\n",
       "      <td>7.50</td>\n",
       "      <td>5.000000</td>\n",
       "    </tr>\n",
       "    <tr>\n",
       "      <th>3</th>\n",
       "      <td>Bambi</td>\n",
       "      <td>70.0</td>\n",
       "      <td>858000.0</td>\n",
       "      <td>267400000.0</td>\n",
       "      <td>1942-08-09</td>\n",
       "      <td>7.3</td>\n",
       "      <td>9.1</td>\n",
       "      <td>9.0</td>\n",
       "      <td>see below</td>\n",
       "      <td>missing</td>\n",
       "      <td>Supervising director</td>\n",
       "      <td>Blockbuster</td>\n",
       "      <td>10.0</td>\n",
       "      <td>10.00</td>\n",
       "      <td>8.958333</td>\n",
       "    </tr>\n",
       "    <tr>\n",
       "      <th>4</th>\n",
       "      <td>Make Mine Music</td>\n",
       "      <td>75.0</td>\n",
       "      <td>1350000.0</td>\n",
       "      <td>3275000.0</td>\n",
       "      <td>1946-04-20</td>\n",
       "      <td>6.3</td>\n",
       "      <td>6.0</td>\n",
       "      <td>7.0</td>\n",
       "      <td>Nelson Eddy</td>\n",
       "      <td>missing</td>\n",
       "      <td>Jack Kinney</td>\n",
       "      <td>Hit</td>\n",
       "      <td>7.5</td>\n",
       "      <td>6.25</td>\n",
       "      <td>8.958333</td>\n",
       "    </tr>\n",
       "  </tbody>\n",
       "</table>\n",
       "</div>"
      ],
      "text/plain": [
       "             title  Running_time     Budget   Box_office Release_date  imdb  \\\n",
       "0        Pinocchio          88.0  2600000.0  164000000.0   1940-02-07   7.4   \n",
       "1         Fantasia         126.0  2280000.0   83300000.0   1940-11-13   7.7   \n",
       "2            Dumbo          64.0   950000.0    1300000.0   1941-10-23   7.2   \n",
       "3            Bambi          70.0   858000.0  267400000.0   1942-08-09   7.3   \n",
       "4  Make Mine Music          75.0  1350000.0    3275000.0   1946-04-20   6.3   \n",
       "\n",
       "   metascore  rotten_tomatoes         Main_actor  Second_actor  \\\n",
       "0        9.9              7.3      Cliff Edwards  Dickie Jones   \n",
       "1        9.6              9.5  Leopold Stokowski  Deems Taylor   \n",
       "2        9.6              9.8      Edward Brophy   Herman Bing   \n",
       "3        9.1              9.0          see below       missing   \n",
       "4        6.0              7.0        Nelson Eddy       missing   \n",
       "\n",
       "               Director     Category  Main_actor_rate  Director_rate  \\\n",
       "0        Ben Sharpsteen  Blockbuster             10.0           7.50   \n",
       "1      Samuel Armstrong  Blockbuster             10.0          10.00   \n",
       "2        Ben Sharpsteen         Flop              5.0           7.50   \n",
       "3  Supervising director  Blockbuster             10.0          10.00   \n",
       "4           Jack Kinney          Hit              7.5           6.25   \n",
       "\n",
       "   Second_actor_rate  \n",
       "0          10.000000  \n",
       "1          10.000000  \n",
       "2           5.000000  \n",
       "3           8.958333  \n",
       "4           8.958333  "
      ]
     },
     "execution_count": 2,
     "metadata": {},
     "output_type": "execute_result"
    }
   ],
   "source": [
    "dataset = pd.read_csv('processed_movie_dataset.csv')\n",
    "dataset.head()"
   ]
  },
  {
   "cell_type": "code",
   "execution_count": 3,
   "id": "93855e2f",
   "metadata": {},
   "outputs": [
    {
     "data": {
      "text/html": [
       "<div>\n",
       "<style scoped>\n",
       "    .dataframe tbody tr th:only-of-type {\n",
       "        vertical-align: middle;\n",
       "    }\n",
       "\n",
       "    .dataframe tbody tr th {\n",
       "        vertical-align: top;\n",
       "    }\n",
       "\n",
       "    .dataframe thead th {\n",
       "        text-align: right;\n",
       "    }\n",
       "</style>\n",
       "<table border=\"1\" class=\"dataframe\">\n",
       "  <thead>\n",
       "    <tr style=\"text-align: right;\">\n",
       "      <th></th>\n",
       "      <th>title</th>\n",
       "      <th>Running_time</th>\n",
       "      <th>Budget</th>\n",
       "      <th>Box_office</th>\n",
       "      <th>Release_date</th>\n",
       "      <th>imdb</th>\n",
       "      <th>metascore</th>\n",
       "      <th>rotten_tomatoes</th>\n",
       "      <th>Main_actor</th>\n",
       "      <th>Second_actor</th>\n",
       "      <th>Director</th>\n",
       "      <th>Main_actor_rate</th>\n",
       "      <th>Director_rate</th>\n",
       "      <th>Second_actor_rate</th>\n",
       "      <th>Category</th>\n",
       "    </tr>\n",
       "  </thead>\n",
       "  <tbody>\n",
       "    <tr>\n",
       "      <th>0</th>\n",
       "      <td>Pinocchio</td>\n",
       "      <td>88.0</td>\n",
       "      <td>2600000.0</td>\n",
       "      <td>164000000.0</td>\n",
       "      <td>1940-02-07</td>\n",
       "      <td>7.4</td>\n",
       "      <td>9.9</td>\n",
       "      <td>7.3</td>\n",
       "      <td>Cliff Edwards</td>\n",
       "      <td>Dickie Jones</td>\n",
       "      <td>Ben Sharpsteen</td>\n",
       "      <td>10.0</td>\n",
       "      <td>7.50</td>\n",
       "      <td>10.000000</td>\n",
       "      <td>Blockbuster</td>\n",
       "    </tr>\n",
       "    <tr>\n",
       "      <th>1</th>\n",
       "      <td>Fantasia</td>\n",
       "      <td>126.0</td>\n",
       "      <td>2280000.0</td>\n",
       "      <td>83300000.0</td>\n",
       "      <td>1940-11-13</td>\n",
       "      <td>7.7</td>\n",
       "      <td>9.6</td>\n",
       "      <td>9.5</td>\n",
       "      <td>Leopold Stokowski</td>\n",
       "      <td>Deems Taylor</td>\n",
       "      <td>Samuel Armstrong</td>\n",
       "      <td>10.0</td>\n",
       "      <td>10.00</td>\n",
       "      <td>10.000000</td>\n",
       "      <td>Blockbuster</td>\n",
       "    </tr>\n",
       "    <tr>\n",
       "      <th>2</th>\n",
       "      <td>Dumbo</td>\n",
       "      <td>64.0</td>\n",
       "      <td>950000.0</td>\n",
       "      <td>1300000.0</td>\n",
       "      <td>1941-10-23</td>\n",
       "      <td>7.2</td>\n",
       "      <td>9.6</td>\n",
       "      <td>9.8</td>\n",
       "      <td>Edward Brophy</td>\n",
       "      <td>Herman Bing</td>\n",
       "      <td>Ben Sharpsteen</td>\n",
       "      <td>5.0</td>\n",
       "      <td>7.50</td>\n",
       "      <td>5.000000</td>\n",
       "      <td>Flop</td>\n",
       "    </tr>\n",
       "    <tr>\n",
       "      <th>3</th>\n",
       "      <td>Bambi</td>\n",
       "      <td>70.0</td>\n",
       "      <td>858000.0</td>\n",
       "      <td>267400000.0</td>\n",
       "      <td>1942-08-09</td>\n",
       "      <td>7.3</td>\n",
       "      <td>9.1</td>\n",
       "      <td>9.0</td>\n",
       "      <td>see below</td>\n",
       "      <td>missing</td>\n",
       "      <td>Supervising director</td>\n",
       "      <td>10.0</td>\n",
       "      <td>10.00</td>\n",
       "      <td>8.958333</td>\n",
       "      <td>Blockbuster</td>\n",
       "    </tr>\n",
       "    <tr>\n",
       "      <th>4</th>\n",
       "      <td>Make Mine Music</td>\n",
       "      <td>75.0</td>\n",
       "      <td>1350000.0</td>\n",
       "      <td>3275000.0</td>\n",
       "      <td>1946-04-20</td>\n",
       "      <td>6.3</td>\n",
       "      <td>6.0</td>\n",
       "      <td>7.0</td>\n",
       "      <td>Nelson Eddy</td>\n",
       "      <td>missing</td>\n",
       "      <td>Jack Kinney</td>\n",
       "      <td>7.5</td>\n",
       "      <td>6.25</td>\n",
       "      <td>8.958333</td>\n",
       "      <td>Hit</td>\n",
       "    </tr>\n",
       "  </tbody>\n",
       "</table>\n",
       "</div>"
      ],
      "text/plain": [
       "             title  Running_time     Budget   Box_office Release_date  imdb  \\\n",
       "0        Pinocchio          88.0  2600000.0  164000000.0   1940-02-07   7.4   \n",
       "1         Fantasia         126.0  2280000.0   83300000.0   1940-11-13   7.7   \n",
       "2            Dumbo          64.0   950000.0    1300000.0   1941-10-23   7.2   \n",
       "3            Bambi          70.0   858000.0  267400000.0   1942-08-09   7.3   \n",
       "4  Make Mine Music          75.0  1350000.0    3275000.0   1946-04-20   6.3   \n",
       "\n",
       "   metascore  rotten_tomatoes         Main_actor  Second_actor  \\\n",
       "0        9.9              7.3      Cliff Edwards  Dickie Jones   \n",
       "1        9.6              9.5  Leopold Stokowski  Deems Taylor   \n",
       "2        9.6              9.8      Edward Brophy   Herman Bing   \n",
       "3        9.1              9.0          see below       missing   \n",
       "4        6.0              7.0        Nelson Eddy       missing   \n",
       "\n",
       "               Director  Main_actor_rate  Director_rate  Second_actor_rate  \\\n",
       "0        Ben Sharpsteen             10.0           7.50          10.000000   \n",
       "1      Samuel Armstrong             10.0          10.00          10.000000   \n",
       "2        Ben Sharpsteen              5.0           7.50           5.000000   \n",
       "3  Supervising director             10.0          10.00           8.958333   \n",
       "4           Jack Kinney              7.5           6.25           8.958333   \n",
       "\n",
       "      Category  \n",
       "0  Blockbuster  \n",
       "1  Blockbuster  \n",
       "2         Flop  \n",
       "3  Blockbuster  \n",
       "4          Hit  "
      ]
     },
     "execution_count": 3,
     "metadata": {},
     "output_type": "execute_result"
    }
   ],
   "source": [
    "# Let's move the Category of movies to the last colomn\n",
    "cat = dataset.pop('Category')\n",
    "dataset.insert(14, 'Category', cat)\n",
    "dataset.head()"
   ]
  },
  {
   "cell_type": "markdown",
   "id": "79e9f6ae",
   "metadata": {},
   "source": [
    "### Transforming the Category column into numeric\n",
    "Since Category column is string, i.e 'Blockbuster', 'Flop' and 'Hit' we need to represent this label in number form like 0, 1, 2. Because in model we can't pass the strings to model when training it.\n",
    "We can achieve this by using LabelEncoder() function from scikit-learn."
   ]
  },
  {
   "cell_type": "code",
   "execution_count": 4,
   "id": "c4b3863f",
   "metadata": {},
   "outputs": [
    {
     "data": {
      "text/html": [
       "<div>\n",
       "<style scoped>\n",
       "    .dataframe tbody tr th:only-of-type {\n",
       "        vertical-align: middle;\n",
       "    }\n",
       "\n",
       "    .dataframe tbody tr th {\n",
       "        vertical-align: top;\n",
       "    }\n",
       "\n",
       "    .dataframe thead th {\n",
       "        text-align: right;\n",
       "    }\n",
       "</style>\n",
       "<table border=\"1\" class=\"dataframe\">\n",
       "  <thead>\n",
       "    <tr style=\"text-align: right;\">\n",
       "      <th></th>\n",
       "      <th>title</th>\n",
       "      <th>Running_time</th>\n",
       "      <th>Budget</th>\n",
       "      <th>Box_office</th>\n",
       "      <th>Release_date</th>\n",
       "      <th>imdb</th>\n",
       "      <th>metascore</th>\n",
       "      <th>rotten_tomatoes</th>\n",
       "      <th>Main_actor</th>\n",
       "      <th>Second_actor</th>\n",
       "      <th>Director</th>\n",
       "      <th>Main_actor_rate</th>\n",
       "      <th>Director_rate</th>\n",
       "      <th>Second_actor_rate</th>\n",
       "      <th>Category</th>\n",
       "      <th>cat_label</th>\n",
       "    </tr>\n",
       "  </thead>\n",
       "  <tbody>\n",
       "    <tr>\n",
       "      <th>0</th>\n",
       "      <td>Pinocchio</td>\n",
       "      <td>88.0</td>\n",
       "      <td>2600000.0</td>\n",
       "      <td>164000000.0</td>\n",
       "      <td>1940-02-07</td>\n",
       "      <td>7.4</td>\n",
       "      <td>9.9</td>\n",
       "      <td>7.3</td>\n",
       "      <td>Cliff Edwards</td>\n",
       "      <td>Dickie Jones</td>\n",
       "      <td>Ben Sharpsteen</td>\n",
       "      <td>10.0</td>\n",
       "      <td>7.50</td>\n",
       "      <td>10.000000</td>\n",
       "      <td>Blockbuster</td>\n",
       "      <td>0</td>\n",
       "    </tr>\n",
       "    <tr>\n",
       "      <th>1</th>\n",
       "      <td>Fantasia</td>\n",
       "      <td>126.0</td>\n",
       "      <td>2280000.0</td>\n",
       "      <td>83300000.0</td>\n",
       "      <td>1940-11-13</td>\n",
       "      <td>7.7</td>\n",
       "      <td>9.6</td>\n",
       "      <td>9.5</td>\n",
       "      <td>Leopold Stokowski</td>\n",
       "      <td>Deems Taylor</td>\n",
       "      <td>Samuel Armstrong</td>\n",
       "      <td>10.0</td>\n",
       "      <td>10.00</td>\n",
       "      <td>10.000000</td>\n",
       "      <td>Blockbuster</td>\n",
       "      <td>0</td>\n",
       "    </tr>\n",
       "    <tr>\n",
       "      <th>2</th>\n",
       "      <td>Dumbo</td>\n",
       "      <td>64.0</td>\n",
       "      <td>950000.0</td>\n",
       "      <td>1300000.0</td>\n",
       "      <td>1941-10-23</td>\n",
       "      <td>7.2</td>\n",
       "      <td>9.6</td>\n",
       "      <td>9.8</td>\n",
       "      <td>Edward Brophy</td>\n",
       "      <td>Herman Bing</td>\n",
       "      <td>Ben Sharpsteen</td>\n",
       "      <td>5.0</td>\n",
       "      <td>7.50</td>\n",
       "      <td>5.000000</td>\n",
       "      <td>Flop</td>\n",
       "      <td>1</td>\n",
       "    </tr>\n",
       "    <tr>\n",
       "      <th>3</th>\n",
       "      <td>Bambi</td>\n",
       "      <td>70.0</td>\n",
       "      <td>858000.0</td>\n",
       "      <td>267400000.0</td>\n",
       "      <td>1942-08-09</td>\n",
       "      <td>7.3</td>\n",
       "      <td>9.1</td>\n",
       "      <td>9.0</td>\n",
       "      <td>see below</td>\n",
       "      <td>missing</td>\n",
       "      <td>Supervising director</td>\n",
       "      <td>10.0</td>\n",
       "      <td>10.00</td>\n",
       "      <td>8.958333</td>\n",
       "      <td>Blockbuster</td>\n",
       "      <td>0</td>\n",
       "    </tr>\n",
       "    <tr>\n",
       "      <th>4</th>\n",
       "      <td>Make Mine Music</td>\n",
       "      <td>75.0</td>\n",
       "      <td>1350000.0</td>\n",
       "      <td>3275000.0</td>\n",
       "      <td>1946-04-20</td>\n",
       "      <td>6.3</td>\n",
       "      <td>6.0</td>\n",
       "      <td>7.0</td>\n",
       "      <td>Nelson Eddy</td>\n",
       "      <td>missing</td>\n",
       "      <td>Jack Kinney</td>\n",
       "      <td>7.5</td>\n",
       "      <td>6.25</td>\n",
       "      <td>8.958333</td>\n",
       "      <td>Hit</td>\n",
       "      <td>2</td>\n",
       "    </tr>\n",
       "  </tbody>\n",
       "</table>\n",
       "</div>"
      ],
      "text/plain": [
       "             title  Running_time     Budget   Box_office Release_date  imdb  \\\n",
       "0        Pinocchio          88.0  2600000.0  164000000.0   1940-02-07   7.4   \n",
       "1         Fantasia         126.0  2280000.0   83300000.0   1940-11-13   7.7   \n",
       "2            Dumbo          64.0   950000.0    1300000.0   1941-10-23   7.2   \n",
       "3            Bambi          70.0   858000.0  267400000.0   1942-08-09   7.3   \n",
       "4  Make Mine Music          75.0  1350000.0    3275000.0   1946-04-20   6.3   \n",
       "\n",
       "   metascore  rotten_tomatoes         Main_actor  Second_actor  \\\n",
       "0        9.9              7.3      Cliff Edwards  Dickie Jones   \n",
       "1        9.6              9.5  Leopold Stokowski  Deems Taylor   \n",
       "2        9.6              9.8      Edward Brophy   Herman Bing   \n",
       "3        9.1              9.0          see below       missing   \n",
       "4        6.0              7.0        Nelson Eddy       missing   \n",
       "\n",
       "               Director  Main_actor_rate  Director_rate  Second_actor_rate  \\\n",
       "0        Ben Sharpsteen             10.0           7.50          10.000000   \n",
       "1      Samuel Armstrong             10.0          10.00          10.000000   \n",
       "2        Ben Sharpsteen              5.0           7.50           5.000000   \n",
       "3  Supervising director             10.0          10.00           8.958333   \n",
       "4           Jack Kinney              7.5           6.25           8.958333   \n",
       "\n",
       "      Category  cat_label  \n",
       "0  Blockbuster          0  \n",
       "1  Blockbuster          0  \n",
       "2         Flop          1  \n",
       "3  Blockbuster          0  \n",
       "4          Hit          2  "
      ]
     },
     "execution_count": 4,
     "metadata": {},
     "output_type": "execute_result"
    }
   ],
   "source": [
    "from sklearn.preprocessing import LabelEncoder\n",
    "encoder = LabelEncoder()\n",
    "label = encoder.fit_transform(dataset['Category'])\n",
    "dataset['cat_label'] = label\n",
    "dataset.head()"
   ]
  },
  {
   "cell_type": "code",
   "execution_count": 5,
   "id": "940d4b22",
   "metadata": {},
   "outputs": [],
   "source": [
    "# saveing the labelled dataset\n",
    "dataset.to_csv('labelled_movie_dataset.csv', index=False)"
   ]
  },
  {
   "cell_type": "markdown",
   "id": "18f1723d",
   "metadata": {},
   "source": [
    "As we can see from cat_label column added to the dataset, the category representation is as follows\n",
    ">* Blockbuster => 0\n",
    ">* Flop => 1\n",
    ">* Hit => 2"
   ]
  },
  {
   "cell_type": "markdown",
   "id": "9d798b8d",
   "metadata": {},
   "source": [
    "#### Features and Label"
   ]
  },
  {
   "cell_type": "code",
   "execution_count": 6,
   "id": "7338dc89",
   "metadata": {},
   "outputs": [
    {
     "data": {
      "text/html": [
       "<div>\n",
       "<style scoped>\n",
       "    .dataframe tbody tr th:only-of-type {\n",
       "        vertical-align: middle;\n",
       "    }\n",
       "\n",
       "    .dataframe tbody tr th {\n",
       "        vertical-align: top;\n",
       "    }\n",
       "\n",
       "    .dataframe thead th {\n",
       "        text-align: right;\n",
       "    }\n",
       "</style>\n",
       "<table border=\"1\" class=\"dataframe\">\n",
       "  <thead>\n",
       "    <tr style=\"text-align: right;\">\n",
       "      <th></th>\n",
       "      <th>imdb</th>\n",
       "      <th>metascore</th>\n",
       "      <th>rotten_tomatoes</th>\n",
       "      <th>Main_actor_rate</th>\n",
       "      <th>Second_actor_rate</th>\n",
       "      <th>Director_rate</th>\n",
       "    </tr>\n",
       "  </thead>\n",
       "  <tbody>\n",
       "    <tr>\n",
       "      <th>0</th>\n",
       "      <td>7.4</td>\n",
       "      <td>9.9</td>\n",
       "      <td>7.3</td>\n",
       "      <td>10.0</td>\n",
       "      <td>10.000000</td>\n",
       "      <td>7.50</td>\n",
       "    </tr>\n",
       "    <tr>\n",
       "      <th>1</th>\n",
       "      <td>7.7</td>\n",
       "      <td>9.6</td>\n",
       "      <td>9.5</td>\n",
       "      <td>10.0</td>\n",
       "      <td>10.000000</td>\n",
       "      <td>10.00</td>\n",
       "    </tr>\n",
       "    <tr>\n",
       "      <th>2</th>\n",
       "      <td>7.2</td>\n",
       "      <td>9.6</td>\n",
       "      <td>9.8</td>\n",
       "      <td>5.0</td>\n",
       "      <td>5.000000</td>\n",
       "      <td>7.50</td>\n",
       "    </tr>\n",
       "    <tr>\n",
       "      <th>3</th>\n",
       "      <td>7.3</td>\n",
       "      <td>9.1</td>\n",
       "      <td>9.0</td>\n",
       "      <td>10.0</td>\n",
       "      <td>8.958333</td>\n",
       "      <td>10.00</td>\n",
       "    </tr>\n",
       "    <tr>\n",
       "      <th>4</th>\n",
       "      <td>6.3</td>\n",
       "      <td>6.0</td>\n",
       "      <td>7.0</td>\n",
       "      <td>7.5</td>\n",
       "      <td>8.958333</td>\n",
       "      <td>6.25</td>\n",
       "    </tr>\n",
       "  </tbody>\n",
       "</table>\n",
       "</div>"
      ],
      "text/plain": [
       "   imdb  metascore  rotten_tomatoes  Main_actor_rate  Second_actor_rate  \\\n",
       "0   7.4        9.9              7.3             10.0          10.000000   \n",
       "1   7.7        9.6              9.5             10.0          10.000000   \n",
       "2   7.2        9.6              9.8              5.0           5.000000   \n",
       "3   7.3        9.1              9.0             10.0           8.958333   \n",
       "4   6.3        6.0              7.0              7.5           8.958333   \n",
       "\n",
       "   Director_rate  \n",
       "0           7.50  \n",
       "1          10.00  \n",
       "2           7.50  \n",
       "3          10.00  \n",
       "4           6.25  "
      ]
     },
     "execution_count": 6,
     "metadata": {},
     "output_type": "execute_result"
    }
   ],
   "source": [
    "# features\n",
    "x = dataset[['imdb', 'metascore', 'rotten_tomatoes', 'Main_actor_rate', 'Second_actor_rate', 'Director_rate']]\n",
    "x.head()\n"
   ]
  },
  {
   "cell_type": "code",
   "execution_count": 7,
   "id": "c72b6c63",
   "metadata": {},
   "outputs": [
    {
     "data": {
      "text/plain": [
       "0    0\n",
       "1    0\n",
       "2    1\n",
       "3    0\n",
       "4    2\n",
       "Name: cat_label, dtype: int32"
      ]
     },
     "execution_count": 7,
     "metadata": {},
     "output_type": "execute_result"
    }
   ],
   "source": [
    "# Label\n",
    "y=dataset['cat_label']\n",
    "y.head()"
   ]
  },
  {
   "cell_type": "markdown",
   "id": "7d1bad84",
   "metadata": {},
   "source": [
    "##### Split the features and label into training and test dataset"
   ]
  },
  {
   "cell_type": "code",
   "execution_count": 8,
   "id": "deb1010c",
   "metadata": {},
   "outputs": [
    {
     "name": "stdout",
     "output_type": "stream",
     "text": [
      "X_train Shape:  (178, 6)\n",
      "X_test Shape:  (45, 6)\n",
      "Y_train Shape:  (178,)\n",
      "Y_test Shape:  (45,)\n"
     ]
    }
   ],
   "source": [
    "x_train, x_test, y_train, y_test = train_test_split(x, y, test_size=0.2, random_state=0)\n",
    "\n",
    "print(\"X_train Shape: \", x_train.shape)\n",
    "print(\"X_test Shape: \", x_test.shape)\n",
    "print(\"Y_train Shape: \", y_train.shape)\n",
    "print(\"Y_test Shape: \", y_test.shape)"
   ]
  },
  {
   "cell_type": "markdown",
   "id": "054dedde",
   "metadata": {},
   "source": [
    "#### Model training"
   ]
  },
  {
   "cell_type": "code",
   "execution_count": 9,
   "id": "12432e43",
   "metadata": {},
   "outputs": [
    {
     "data": {
      "text/plain": [
       "AdaBoostClassifier(base_estimator=DecisionTreeClassifier(max_depth=4,\n",
       "                                                         min_samples_split=10),\n",
       "                   learning_rate=0.01, n_estimators=10)"
      ]
     },
     "execution_count": 9,
     "metadata": {},
     "output_type": "execute_result"
    }
   ],
   "source": [
    "from sklearn.ensemble import AdaBoostClassifier\n",
    "\n",
    "\n",
    "\n",
    "adb = AdaBoostClassifier(DecisionTreeClassifier(min_samples_split=10,max_depth=4),n_estimators=10,learning_rate=0.01)\n",
    "adb.fit(x_train, y_train)"
   ]
  },
  {
   "cell_type": "code",
   "execution_count": 10,
   "id": "2e5ce27e",
   "metadata": {},
   "outputs": [
    {
     "data": {
      "text/plain": [
       "DecisionTreeClassifier(criterion='entropy', max_leaf_nodes=12, random_state=0)"
      ]
     },
     "execution_count": 10,
     "metadata": {},
     "output_type": "execute_result"
    }
   ],
   "source": [
    "from sklearn.tree import DecisionTreeClassifier\n",
    "dt_classifier = DecisionTreeClassifier(criterion='entropy', max_leaf_nodes=12, random_state=0)\n",
    "dt_classifier.fit(x_train, y_train)"
   ]
  },
  {
   "cell_type": "code",
   "execution_count": 11,
   "id": "c5177242",
   "metadata": {
    "scrolled": true
   },
   "outputs": [
    {
     "data": {
      "image/png": "[encoded data removed]",
      "text/plain": [
       "<Figure size 432x288 with 1 Axes>"
      ]
     },
     "metadata": {
      "needs_background": "light"
     },
     "output_type": "display_data"
    }
   ],
   "source": [
    "from sklearn import tree\n",
    "tree.plot_tree(dt_classifier, fontsize=7.5, rounded=True, max_depth=2)\n",
    "plt.savefig(\"dtree\")"
   ]
  },
  {
   "cell_type": "markdown",
   "id": "7e697531",
   "metadata": {},
   "source": [
    "### Saving The Model"
   ]
  },
  {
   "cell_type": "code",
   "execution_count": 12,
   "id": "ffdf5677",
   "metadata": {},
   "outputs": [],
   "source": [
    "import pickle\n",
    "adb_pkl = open('adb_model.pkl', 'wb')\n",
    "pickle.dump(adb, adb_pkl)\n",
    "adb_pkl.close()"
   ]
  },
  {
   "cell_type": "markdown",
   "id": "696f146a",
   "metadata": {},
   "source": [
    "### Loading and using the saved model"
   ]
  },
  {
   "cell_type": "code",
   "execution_count": 13,
   "id": "021744c7",
   "metadata": {},
   "outputs": [
    {
     "name": "stderr",
     "output_type": "stream",
     "text": [
      "C:\\Users\\hp\\anaconda3\\envs\\env_ml\\lib\\site-packages\\sklearn\\base.py:450: UserWarning: X does not have valid feature names, but AdaBoostClassifier was fitted with feature names\n",
      "  warnings.warn(\n"
     ]
    },
    {
     "data": {
      "text/plain": [
       "array([2, 0, 1])"
      ]
     },
     "execution_count": 13,
     "metadata": {},
     "output_type": "execute_result"
    }
   ],
   "source": [
    "adb_model_pkl = open('adb_model.pkl', 'rb')\n",
    "adb_model = pickle.load(adb_model_pkl)\n",
    "\n",
    "# Predicting with sample data. This sample data are from the dataset and their category are 2, 0 and 1 respectively\n",
    "# And as we can see from the predicted results, they are correct.\n",
    "pred_from_loaded_model = adb_model.predict([[7.1, 5.9, 6.6, 7.5, 9.166667, 7.5],\n",
    "                                   [7.4, 9.9, 7.3, 10, 7.5, 10],\n",
    "                                  [6.3, 5.5, 3.6, 5, 5, 5],\n",
    "                                  ])\n",
    "pred_from_loaded_model"
   ]
  },
  {
   "cell_type": "markdown",
   "id": "924fd4d6",
   "metadata": {},
   "source": [
    "#### Prediction"
   ]
  },
  {
   "cell_type": "code",
   "execution_count": 14,
   "id": "37f878cc",
   "metadata": {},
   "outputs": [
    {
     "data": {
      "text/plain": [
       "array([0, 1, 1, 0, 0, 1, 0, 0, 2, 1, 2, 0, 0, 2, 2, 0, 2, 0, 0, 0, 2, 1,\n",
       "       0, 1, 1, 0, 1, 2, 1, 0, 1, 0, 0, 2, 0, 0, 1, 0, 0, 0, 1, 2, 2, 2,\n",
       "       1])"
      ]
     },
     "execution_count": 14,
     "metadata": {},
     "output_type": "execute_result"
    }
   ],
   "source": [
    "y_prediction = adb.predict(x_test)\n",
    "y_prediction"
   ]
  },
  {
   "cell_type": "markdown",
   "id": "fe59409a",
   "metadata": {},
   "source": [
    "#### Model Evaluation"
   ]
  },
  {
   "cell_type": "code",
   "execution_count": 15,
   "id": "e1e479a6",
   "metadata": {},
   "outputs": [],
   "source": [
    "from sklearn import metrics"
   ]
  },
  {
   "cell_type": "code",
   "execution_count": 16,
   "id": "0d587ee7",
   "metadata": {},
   "outputs": [
    {
     "name": "stdout",
     "output_type": "stream",
     "text": [
      "Accuracy Score: 97.78%\n",
      "\n",
      "Precision Score: 96.97%\n",
      "\n",
      "Recall Score: 97.62%\n",
      "\n",
      "F1 Score: 97.18%\n"
     ]
    }
   ],
   "source": [
    "print('Accuracy Score: {:.2f}%'.format(metrics.accuracy_score(y_test, y_prediction) * 100))  \n",
    "print('')\n",
    "print('Precision Score: {:.2f}%'.format(metrics.precision_score(y_test, y_prediction, average='macro') * 100))\n",
    "print('')\n",
    "print('Recall Score: {:.2f}%'.format(metrics.recall_score(y_test, y_prediction, average='macro') * 100))\n",
    "print('')\n",
    "print('F1 Score: {:.2f}%'.format(metrics.f1_score(y_test, y_prediction, average='macro') * 100))\n"
   ]
  },
  {
   "cell_type": "code",
   "execution_count": 17,
   "id": "47aa6663",
   "metadata": {},
   "outputs": [
    {
     "data": {
      "image/png": "[encoded data removed]",
      "text/plain": [
       "<Figure size 432x288 with 1 Axes>"
      ]
     },
     "metadata": {
      "needs_background": "light"
     },
     "output_type": "display_data"
    }
   ],
   "source": [
    "def add_value_label(x_list,y_list):\n",
    "    for i in range(1, len(x_list)+1):\n",
    "        plt.text(i-1.2,y_list[i-1]+1,y_list[i-1])\n",
    "        \n",
    "graph_data = {'metrics': ['Accuracy', 'Precision', 'Recall', 'F1-score'],\n",
    "             'scores': [97.78, 96.97, 97.62, 97.18]} \n",
    "\n",
    "df = pd.DataFrame(graph_data, columns=['metrics', 'scores'])\n",
    "\n",
    "colors = ['teal', 'purple', 'brown', 'green']\n",
    "fig = plt.figure()\n",
    "plt.bar(df['metrics'], df['scores'], color=colors, width=0.5, align='center')\n",
    "add_value_label(df['metrics'], df['scores'])\n",
    "plt.title('Model Evaluation')\n",
    "plt.xlabel('Evaluation Metrics')\n",
    "plt.ylabel('Score %')\n",
    "# plt.text(84, 95, '93.33%')\n",
    "plt.show()\n",
    "fig.savefig(\"model_evaluation2\")"
   ]
  },
  {
   "cell_type": "code",
   "execution_count": null,
   "id": "9573a000",
   "metadata": {},
   "outputs": [],
   "source": []
  }
 ],
 "metadata": {
  "kernelspec": {
   "display_name": "Python 3 (ipykernel)",
   "language": "python",
   "name": "python3"
  },
  "language_info": {
   "codemirror_mode": {
    "name": "ipython",
    "version": 3
   },
   "file_extension": ".py",
   "mimetype": "text/x-python",
   "name": "python",
   "nbconvert_exporter": "python",
   "pygments_lexer": "ipython3",
   "version": "3.8.0"
  }
 },
 "nbformat": 4,
 "nbformat_minor": 5
}
