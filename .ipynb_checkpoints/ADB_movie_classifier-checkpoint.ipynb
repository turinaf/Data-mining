{
 "cells": [
  {
   "cell_type": "markdown",
   "id": "5603dd79",
   "metadata": {},
   "source": [
    "### Model Design stage\n",
    "We have already did data preprocessing and saved the processed dataset.\n",
    "##### Tasks to be done in this step\n",
    ">* Splitting the dataset into training dataset and testing dataset.\n",
    ">* Designing the model and trainging it\n",
    ">* Evaluating the model performance"
   ]
  },
  {
   "cell_type": "code",
   "execution_count": 2,
   "id": "229aaf22",
   "metadata": {},
   "outputs": [],
   "source": [
    "import pandas as pd\n",
    "import numpy as np\n",
    "import matplotlib.pyplot as plt\n",
    "from sklearn.model_selection import train_test_split\n",
    "from sklearn.tree import DecisionTreeClassifier\n",
    "from sklearn.preprocessing import LabelEncoder\n"
   ]
  },
  {
   "cell_type": "code",
   "execution_count": 3,
   "id": "8da47a4e",
   "metadata": {},
   "outputs": [
    {
     "data": {
      "text/html": [
       "<div>\n",
       "<style scoped>\n",
       "    .dataframe tbody tr th:only-of-type {\n",
       "        vertical-align: middle;\n",
       "    }\n",
       "\n",
       "    .dataframe tbody tr th {\n",
       "        vertical-align: top;\n",
       "    }\n",
       "\n",
       "    .dataframe thead th {\n",
       "        text-align: right;\n",
       "    }\n",
       "</style>\n",
       "<table border=\"1\" class=\"dataframe\">\n",
       "  <thead>\n",
       "    <tr style=\"text-align: right;\">\n",
       "      <th></th>\n",
       "      <th>title</th>\n",
       "      <th>Running_time</th>\n",
       "      <th>Budget</th>\n",
       "      <th>Box_office</th>\n",
       "      <th>Release_date</th>\n",
       "      <th>imdb</th>\n",
       "      <th>metascore</th>\n",
       "      <th>rotten_tomatoes</th>\n",
       "      <th>Main_actor</th>\n",
       "      <th>Second_actor</th>\n",
       "      <th>Director</th>\n",
       "      <th>Category</th>\n",
       "      <th>Main_actor_rate</th>\n",
       "      <th>Director_rate</th>\n",
       "      <th>Second_actor_rate</th>\n",
       "    </tr>\n",
       "  </thead>\n",
       "  <tbody>\n",
       "    <tr>\n",
       "      <th>0</th>\n",
       "      <td>Pinocchio</td>\n",
       "      <td>88.0</td>\n",
       "      <td>2600000.0</td>\n",
       "      <td>164000000.0</td>\n",
       "      <td>1940-02-07</td>\n",
       "      <td>7.4</td>\n",
       "      <td>9.9</td>\n",
       "      <td>7.3</td>\n",
       "      <td>Cliff Edwards</td>\n",
       "      <td>Dickie Jones</td>\n",
       "      <td>Ben Sharpsteen</td>\n",
       "      <td>Blockbuster</td>\n",
       "      <td>10.0</td>\n",
       "      <td>7.50</td>\n",
       "      <td>10.000000</td>\n",
       "    </tr>\n",
       "    <tr>\n",
       "      <th>1</th>\n",
       "      <td>Fantasia</td>\n",
       "      <td>126.0</td>\n",
       "      <td>2280000.0</td>\n",
       "      <td>83300000.0</td>\n",
       "      <td>1940-11-13</td>\n",
       "      <td>7.7</td>\n",
       "      <td>9.6</td>\n",
       "      <td>9.5</td>\n",
       "      <td>Leopold Stokowski</td>\n",
       "      <td>Deems Taylor</td>\n",
       "      <td>Samuel Armstrong</td>\n",
       "      <td>Blockbuster</td>\n",
       "      <td>10.0</td>\n",
       "      <td>10.00</td>\n",
       "      <td>10.000000</td>\n",
       "    </tr>\n",
       "    <tr>\n",
       "      <th>2</th>\n",
       "      <td>Dumbo</td>\n",
       "      <td>64.0</td>\n",
       "      <td>950000.0</td>\n",
       "      <td>1300000.0</td>\n",
       "      <td>1941-10-23</td>\n",
       "      <td>7.2</td>\n",
       "      <td>9.6</td>\n",
       "      <td>9.8</td>\n",
       "      <td>Edward Brophy</td>\n",
       "      <td>Herman Bing</td>\n",
       "      <td>Ben Sharpsteen</td>\n",
       "      <td>Flop</td>\n",
       "      <td>5.0</td>\n",
       "      <td>7.50</td>\n",
       "      <td>5.000000</td>\n",
       "    </tr>\n",
       "    <tr>\n",
       "      <th>3</th>\n",
       "      <td>Bambi</td>\n",
       "      <td>70.0</td>\n",
       "      <td>858000.0</td>\n",
       "      <td>267400000.0</td>\n",
       "      <td>1942-08-09</td>\n",
       "      <td>7.3</td>\n",
       "      <td>9.1</td>\n",
       "      <td>9.0</td>\n",
       "      <td>see below</td>\n",
       "      <td>missing</td>\n",
       "      <td>Supervising director</td>\n",
       "      <td>Blockbuster</td>\n",
       "      <td>10.0</td>\n",
       "      <td>10.00</td>\n",
       "      <td>8.958333</td>\n",
       "    </tr>\n",
       "    <tr>\n",
       "      <th>4</th>\n",
       "      <td>Make Mine Music</td>\n",
       "      <td>75.0</td>\n",
       "      <td>1350000.0</td>\n",
       "      <td>3275000.0</td>\n",
       "      <td>1946-04-20</td>\n",
       "      <td>6.3</td>\n",
       "      <td>6.0</td>\n",
       "      <td>7.0</td>\n",
       "      <td>Nelson Eddy</td>\n",
       "      <td>missing</td>\n",
       "      <td>Jack Kinney</td>\n",
       "      <td>Hit</td>\n",
       "      <td>7.5</td>\n",
       "      <td>6.25</td>\n",
       "      <td>8.958333</td>\n",
       "    </tr>\n",
       "  </tbody>\n",
       "</table>\n",
       "</div>"
      ],
      "text/plain": [
       "             title  Running_time     Budget   Box_office Release_date  imdb  \\\n",
       "0        Pinocchio          88.0  2600000.0  164000000.0   1940-02-07   7.4   \n",
       "1         Fantasia         126.0  2280000.0   83300000.0   1940-11-13   7.7   \n",
       "2            Dumbo          64.0   950000.0    1300000.0   1941-10-23   7.2   \n",
       "3            Bambi          70.0   858000.0  267400000.0   1942-08-09   7.3   \n",
       "4  Make Mine Music          75.0  1350000.0    3275000.0   1946-04-20   6.3   \n",
       "\n",
       "   metascore  rotten_tomatoes         Main_actor  Second_actor  \\\n",
       "0        9.9              7.3      Cliff Edwards  Dickie Jones   \n",
       "1        9.6              9.5  Leopold Stokowski  Deems Taylor   \n",
       "2        9.6              9.8      Edward Brophy   Herman Bing   \n",
       "3        9.1              9.0          see below       missing   \n",
       "4        6.0              7.0        Nelson Eddy       missing   \n",
       "\n",
       "               Director     Category  Main_actor_rate  Director_rate  \\\n",
       "0        Ben Sharpsteen  Blockbuster             10.0           7.50   \n",
       "1      Samuel Armstrong  Blockbuster             10.0          10.00   \n",
       "2        Ben Sharpsteen         Flop              5.0           7.50   \n",
       "3  Supervising director  Blockbuster             10.0          10.00   \n",
       "4           Jack Kinney          Hit              7.5           6.25   \n",
       "\n",
       "   Second_actor_rate  \n",
       "0          10.000000  \n",
       "1          10.000000  \n",
       "2           5.000000  \n",
       "3           8.958333  \n",
       "4           8.958333  "
      ]
     },
     "execution_count": 3,
     "metadata": {},
     "output_type": "execute_result"
    }
   ],
   "source": [
    "dataset = pd.read_csv('processed_movie_dataset.csv')\n",
    "dataset.head()"
   ]
  },
  {
   "cell_type": "code",
   "execution_count": 4,
   "id": "93855e2f",
   "metadata": {},
   "outputs": [
    {
     "data": {
      "text/html": [
       "<div>\n",
       "<style scoped>\n",
       "    .dataframe tbody tr th:only-of-type {\n",
       "        vertical-align: middle;\n",
       "    }\n",
       "\n",
       "    .dataframe tbody tr th {\n",
       "        vertical-align: top;\n",
       "    }\n",
       "\n",
       "    .dataframe thead th {\n",
       "        text-align: right;\n",
       "    }\n",
       "</style>\n",
       "<table border=\"1\" class=\"dataframe\">\n",
       "  <thead>\n",
       "    <tr style=\"text-align: right;\">\n",
       "      <th></th>\n",
       "      <th>title</th>\n",
       "      <th>Running_time</th>\n",
       "      <th>Budget</th>\n",
       "      <th>Box_office</th>\n",
       "      <th>Release_date</th>\n",
       "      <th>imdb</th>\n",
       "      <th>metascore</th>\n",
       "      <th>rotten_tomatoes</th>\n",
       "      <th>Main_actor</th>\n",
       "      <th>Second_actor</th>\n",
       "      <th>Director</th>\n",
       "      <th>Main_actor_rate</th>\n",
       "      <th>Director_rate</th>\n",
       "      <th>Second_actor_rate</th>\n",
       "      <th>Category</th>\n",
       "    </tr>\n",
       "  </thead>\n",
       "  <tbody>\n",
       "    <tr>\n",
       "      <th>0</th>\n",
       "      <td>Pinocchio</td>\n",
       "      <td>88.0</td>\n",
       "      <td>2600000.0</td>\n",
       "      <td>164000000.0</td>\n",
       "      <td>1940-02-07</td>\n",
       "      <td>7.4</td>\n",
       "      <td>9.9</td>\n",
       "      <td>7.3</td>\n",
       "      <td>Cliff Edwards</td>\n",
       "      <td>Dickie Jones</td>\n",
       "      <td>Ben Sharpsteen</td>\n",
       "      <td>10.0</td>\n",
       "      <td>7.50</td>\n",
       "      <td>10.000000</td>\n",
       "      <td>Blockbuster</td>\n",
       "    </tr>\n",
       "    <tr>\n",
       "      <th>1</th>\n",
       "      <td>Fantasia</td>\n",
       "      <td>126.0</td>\n",
       "      <td>2280000.0</td>\n",
       "      <td>83300000.0</td>\n",
       "      <td>1940-11-13</td>\n",
       "      <td>7.7</td>\n",
       "      <td>9.6</td>\n",
       "      <td>9.5</td>\n",
       "      <td>Leopold Stokowski</td>\n",
       "      <td>Deems Taylor</td>\n",
       "      <td>Samuel Armstrong</td>\n",
       "      <td>10.0</td>\n",
       "      <td>10.00</td>\n",
       "      <td>10.000000</td>\n",
       "      <td>Blockbuster</td>\n",
       "    </tr>\n",
       "    <tr>\n",
       "      <th>2</th>\n",
       "      <td>Dumbo</td>\n",
       "      <td>64.0</td>\n",
       "      <td>950000.0</td>\n",
       "      <td>1300000.0</td>\n",
       "      <td>1941-10-23</td>\n",
       "      <td>7.2</td>\n",
       "      <td>9.6</td>\n",
       "      <td>9.8</td>\n",
       "      <td>Edward Brophy</td>\n",
       "      <td>Herman Bing</td>\n",
       "      <td>Ben Sharpsteen</td>\n",
       "      <td>5.0</td>\n",
       "      <td>7.50</td>\n",
       "      <td>5.000000</td>\n",
       "      <td>Flop</td>\n",
       "    </tr>\n",
       "    <tr>\n",
       "      <th>3</th>\n",
       "      <td>Bambi</td>\n",
       "      <td>70.0</td>\n",
       "      <td>858000.0</td>\n",
       "      <td>267400000.0</td>\n",
       "      <td>1942-08-09</td>\n",
       "      <td>7.3</td>\n",
       "      <td>9.1</td>\n",
       "      <td>9.0</td>\n",
       "      <td>see below</td>\n",
       "      <td>missing</td>\n",
       "      <td>Supervising director</td>\n",
       "      <td>10.0</td>\n",
       "      <td>10.00</td>\n",
       "      <td>8.958333</td>\n",
       "      <td>Blockbuster</td>\n",
       "    </tr>\n",
       "    <tr>\n",
       "      <th>4</th>\n",
       "      <td>Make Mine Music</td>\n",
       "      <td>75.0</td>\n",
       "      <td>1350000.0</td>\n",
       "      <td>3275000.0</td>\n",
       "      <td>1946-04-20</td>\n",
       "      <td>6.3</td>\n",
       "      <td>6.0</td>\n",
       "      <td>7.0</td>\n",
       "      <td>Nelson Eddy</td>\n",
       "      <td>missing</td>\n",
       "      <td>Jack Kinney</td>\n",
       "      <td>7.5</td>\n",
       "      <td>6.25</td>\n",
       "      <td>8.958333</td>\n",
       "      <td>Hit</td>\n",
       "    </tr>\n",
       "  </tbody>\n",
       "</table>\n",
       "</div>"
      ],
      "text/plain": [
       "             title  Running_time     Budget   Box_office Release_date  imdb  \\\n",
       "0        Pinocchio          88.0  2600000.0  164000000.0   1940-02-07   7.4   \n",
       "1         Fantasia         126.0  2280000.0   83300000.0   1940-11-13   7.7   \n",
       "2            Dumbo          64.0   950000.0    1300000.0   1941-10-23   7.2   \n",
       "3            Bambi          70.0   858000.0  267400000.0   1942-08-09   7.3   \n",
       "4  Make Mine Music          75.0  1350000.0    3275000.0   1946-04-20   6.3   \n",
       "\n",
       "   metascore  rotten_tomatoes         Main_actor  Second_actor  \\\n",
       "0        9.9              7.3      Cliff Edwards  Dickie Jones   \n",
       "1        9.6              9.5  Leopold Stokowski  Deems Taylor   \n",
       "2        9.6              9.8      Edward Brophy   Herman Bing   \n",
       "3        9.1              9.0          see below       missing   \n",
       "4        6.0              7.0        Nelson Eddy       missing   \n",
       "\n",
       "               Director  Main_actor_rate  Director_rate  Second_actor_rate  \\\n",
       "0        Ben Sharpsteen             10.0           7.50          10.000000   \n",
       "1      Samuel Armstrong             10.0          10.00          10.000000   \n",
       "2        Ben Sharpsteen              5.0           7.50           5.000000   \n",
       "3  Supervising director             10.0          10.00           8.958333   \n",
       "4           Jack Kinney              7.5           6.25           8.958333   \n",
       "\n",
       "      Category  \n",
       "0  Blockbuster  \n",
       "1  Blockbuster  \n",
       "2         Flop  \n",
       "3  Blockbuster  \n",
       "4          Hit  "
      ]
     },
     "execution_count": 4,
     "metadata": {},
     "output_type": "execute_result"
    }
   ],
   "source": [
    "# Let's move the Category of movies to the last colomn\n",
    "cat = dataset.pop('Category')\n",
    "dataset.insert(14, 'Category', cat)\n",
    "dataset.head()"
   ]
  },
  {
   "cell_type": "markdown",
   "id": "79e9f6ae",
   "metadata": {},
   "source": [
    "### Transforming the Category column into numeric\n",
    "Since Category column is string, i.e 'Blockbuster', 'Flop' and 'Hit' we need to represent this label in number form like 0, 1, 2. Because in model we can't pass the strings to model when training it.\n",
    "We can achieve this by using LabelEncoder() function from scikit-learn."
   ]
  },
  {
   "cell_type": "code",
   "execution_count": 5,
   "id": "c4b3863f",
   "metadata": {},
   "outputs": [
    {
     "data": {
      "text/html": [
       "<div>\n",
       "<style scoped>\n",
       "    .dataframe tbody tr th:only-of-type {\n",
       "        vertical-align: middle;\n",
       "    }\n",
       "\n",
       "    .dataframe tbody tr th {\n",
       "        vertical-align: top;\n",
       "    }\n",
       "\n",
       "    .dataframe thead th {\n",
       "        text-align: right;\n",
       "    }\n",
       "</style>\n",
       "<table border=\"1\" class=\"dataframe\">\n",
       "  <thead>\n",
       "    <tr style=\"text-align: right;\">\n",
       "      <th></th>\n",
       "      <th>title</th>\n",
       "      <th>Running_time</th>\n",
       "      <th>Budget</th>\n",
       "      <th>Box_office</th>\n",
       "      <th>Release_date</th>\n",
       "      <th>imdb</th>\n",
       "      <th>metascore</th>\n",
       "      <th>rotten_tomatoes</th>\n",
       "      <th>Main_actor</th>\n",
       "      <th>Second_actor</th>\n",
       "      <th>Director</th>\n",
       "      <th>Main_actor_rate</th>\n",
       "      <th>Director_rate</th>\n",
       "      <th>Second_actor_rate</th>\n",
       "      <th>Category</th>\n",
       "      <th>cat_label</th>\n",
       "    </tr>\n",
       "  </thead>\n",
       "  <tbody>\n",
       "    <tr>\n",
       "      <th>0</th>\n",
       "      <td>Pinocchio</td>\n",
       "      <td>88.0</td>\n",
       "      <td>2600000.0</td>\n",
       "      <td>164000000.0</td>\n",
       "      <td>1940-02-07</td>\n",
       "      <td>7.4</td>\n",
       "      <td>9.9</td>\n",
       "      <td>7.3</td>\n",
       "      <td>Cliff Edwards</td>\n",
       "      <td>Dickie Jones</td>\n",
       "      <td>Ben Sharpsteen</td>\n",
       "      <td>10.0</td>\n",
       "      <td>7.50</td>\n",
       "      <td>10.000000</td>\n",
       "      <td>Blockbuster</td>\n",
       "      <td>0</td>\n",
       "    </tr>\n",
       "    <tr>\n",
       "      <th>1</th>\n",
       "      <td>Fantasia</td>\n",
       "      <td>126.0</td>\n",
       "      <td>2280000.0</td>\n",
       "      <td>83300000.0</td>\n",
       "      <td>1940-11-13</td>\n",
       "      <td>7.7</td>\n",
       "      <td>9.6</td>\n",
       "      <td>9.5</td>\n",
       "      <td>Leopold Stokowski</td>\n",
       "      <td>Deems Taylor</td>\n",
       "      <td>Samuel Armstrong</td>\n",
       "      <td>10.0</td>\n",
       "      <td>10.00</td>\n",
       "      <td>10.000000</td>\n",
       "      <td>Blockbuster</td>\n",
       "      <td>0</td>\n",
       "    </tr>\n",
       "    <tr>\n",
       "      <th>2</th>\n",
       "      <td>Dumbo</td>\n",
       "      <td>64.0</td>\n",
       "      <td>950000.0</td>\n",
       "      <td>1300000.0</td>\n",
       "      <td>1941-10-23</td>\n",
       "      <td>7.2</td>\n",
       "      <td>9.6</td>\n",
       "      <td>9.8</td>\n",
       "      <td>Edward Brophy</td>\n",
       "      <td>Herman Bing</td>\n",
       "      <td>Ben Sharpsteen</td>\n",
       "      <td>5.0</td>\n",
       "      <td>7.50</td>\n",
       "      <td>5.000000</td>\n",
       "      <td>Flop</td>\n",
       "      <td>1</td>\n",
       "    </tr>\n",
       "    <tr>\n",
       "      <th>3</th>\n",
       "      <td>Bambi</td>\n",
       "      <td>70.0</td>\n",
       "      <td>858000.0</td>\n",
       "      <td>267400000.0</td>\n",
       "      <td>1942-08-09</td>\n",
       "      <td>7.3</td>\n",
       "      <td>9.1</td>\n",
       "      <td>9.0</td>\n",
       "      <td>see below</td>\n",
       "      <td>missing</td>\n",
       "      <td>Supervising director</td>\n",
       "      <td>10.0</td>\n",
       "      <td>10.00</td>\n",
       "      <td>8.958333</td>\n",
       "      <td>Blockbuster</td>\n",
       "      <td>0</td>\n",
       "    </tr>\n",
       "    <tr>\n",
       "      <th>4</th>\n",
       "      <td>Make Mine Music</td>\n",
       "      <td>75.0</td>\n",
       "      <td>1350000.0</td>\n",
       "      <td>3275000.0</td>\n",
       "      <td>1946-04-20</td>\n",
       "      <td>6.3</td>\n",
       "      <td>6.0</td>\n",
       "      <td>7.0</td>\n",
       "      <td>Nelson Eddy</td>\n",
       "      <td>missing</td>\n",
       "      <td>Jack Kinney</td>\n",
       "      <td>7.5</td>\n",
       "      <td>6.25</td>\n",
       "      <td>8.958333</td>\n",
       "      <td>Hit</td>\n",
       "      <td>2</td>\n",
       "    </tr>\n",
       "  </tbody>\n",
       "</table>\n",
       "</div>"
      ],
      "text/plain": [
       "             title  Running_time     Budget   Box_office Release_date  imdb  \\\n",
       "0        Pinocchio          88.0  2600000.0  164000000.0   1940-02-07   7.4   \n",
       "1         Fantasia         126.0  2280000.0   83300000.0   1940-11-13   7.7   \n",
       "2            Dumbo          64.0   950000.0    1300000.0   1941-10-23   7.2   \n",
       "3            Bambi          70.0   858000.0  267400000.0   1942-08-09   7.3   \n",
       "4  Make Mine Music          75.0  1350000.0    3275000.0   1946-04-20   6.3   \n",
       "\n",
       "   metascore  rotten_tomatoes         Main_actor  Second_actor  \\\n",
       "0        9.9              7.3      Cliff Edwards  Dickie Jones   \n",
       "1        9.6              9.5  Leopold Stokowski  Deems Taylor   \n",
       "2        9.6              9.8      Edward Brophy   Herman Bing   \n",
       "3        9.1              9.0          see below       missing   \n",
       "4        6.0              7.0        Nelson Eddy       missing   \n",
       "\n",
       "               Director  Main_actor_rate  Director_rate  Second_actor_rate  \\\n",
       "0        Ben Sharpsteen             10.0           7.50          10.000000   \n",
       "1      Samuel Armstrong             10.0          10.00          10.000000   \n",
       "2        Ben Sharpsteen              5.0           7.50           5.000000   \n",
       "3  Supervising director             10.0          10.00           8.958333   \n",
       "4           Jack Kinney              7.5           6.25           8.958333   \n",
       "\n",
       "      Category  cat_label  \n",
       "0  Blockbuster          0  \n",
       "1  Blockbuster          0  \n",
       "2         Flop          1  \n",
       "3  Blockbuster          0  \n",
       "4          Hit          2  "
      ]
     },
     "execution_count": 5,
     "metadata": {},
     "output_type": "execute_result"
    }
   ],
   "source": [
    "encoder = LabelEncoder()\n",
    "label = encoder.fit_transform(dataset['Category'])\n",
    "dataset['cat_label'] = label\n",
    "dataset.head()"
   ]
  },
  {
   "cell_type": "markdown",
   "id": "18f1723d",
   "metadata": {},
   "source": [
    "As we can see from cat_label column added to the dataset, the category representation is as follows\n",
    ">* Blockbuster => 0\n",
    ">* Flop => 1\n",
    ">* Hit => 2"
   ]
  },
  {
   "cell_type": "markdown",
   "id": "9d798b8d",
   "metadata": {},
   "source": [
    "#### Features and Label"
   ]
  },
  {
   "cell_type": "code",
   "execution_count": 6,
   "id": "7338dc89",
   "metadata": {},
   "outputs": [
    {
     "data": {
      "text/html": [
       "<div>\n",
       "<style scoped>\n",
       "    .dataframe tbody tr th:only-of-type {\n",
       "        vertical-align: middle;\n",
       "    }\n",
       "\n",
       "    .dataframe tbody tr th {\n",
       "        vertical-align: top;\n",
       "    }\n",
       "\n",
       "    .dataframe thead th {\n",
       "        text-align: right;\n",
       "    }\n",
       "</style>\n",
       "<table border=\"1\" class=\"dataframe\">\n",
       "  <thead>\n",
       "    <tr style=\"text-align: right;\">\n",
       "      <th></th>\n",
       "      <th>imdb</th>\n",
       "      <th>metascore</th>\n",
       "      <th>rotten_tomatoes</th>\n",
       "      <th>Main_actor_rate</th>\n",
       "      <th>Second_actor_rate</th>\n",
       "      <th>Director_rate</th>\n",
       "    </tr>\n",
       "  </thead>\n",
       "  <tbody>\n",
       "    <tr>\n",
       "      <th>0</th>\n",
       "      <td>7.4</td>\n",
       "      <td>9.9</td>\n",
       "      <td>7.3</td>\n",
       "      <td>10.0</td>\n",
       "      <td>10.000000</td>\n",
       "      <td>7.50</td>\n",
       "    </tr>\n",
       "    <tr>\n",
       "      <th>1</th>\n",
       "      <td>7.7</td>\n",
       "      <td>9.6</td>\n",
       "      <td>9.5</td>\n",
       "      <td>10.0</td>\n",
       "      <td>10.000000</td>\n",
       "      <td>10.00</td>\n",
       "    </tr>\n",
       "    <tr>\n",
       "      <th>2</th>\n",
       "      <td>7.2</td>\n",
       "      <td>9.6</td>\n",
       "      <td>9.8</td>\n",
       "      <td>5.0</td>\n",
       "      <td>5.000000</td>\n",
       "      <td>7.50</td>\n",
       "    </tr>\n",
       "    <tr>\n",
       "      <th>3</th>\n",
       "      <td>7.3</td>\n",
       "      <td>9.1</td>\n",
       "      <td>9.0</td>\n",
       "      <td>10.0</td>\n",
       "      <td>8.958333</td>\n",
       "      <td>10.00</td>\n",
       "    </tr>\n",
       "    <tr>\n",
       "      <th>4</th>\n",
       "      <td>6.3</td>\n",
       "      <td>6.0</td>\n",
       "      <td>7.0</td>\n",
       "      <td>7.5</td>\n",
       "      <td>8.958333</td>\n",
       "      <td>6.25</td>\n",
       "    </tr>\n",
       "  </tbody>\n",
       "</table>\n",
       "</div>"
      ],
      "text/plain": [
       "   imdb  metascore  rotten_tomatoes  Main_actor_rate  Second_actor_rate  \\\n",
       "0   7.4        9.9              7.3             10.0          10.000000   \n",
       "1   7.7        9.6              9.5             10.0          10.000000   \n",
       "2   7.2        9.6              9.8              5.0           5.000000   \n",
       "3   7.3        9.1              9.0             10.0           8.958333   \n",
       "4   6.3        6.0              7.0              7.5           8.958333   \n",
       "\n",
       "   Director_rate  \n",
       "0           7.50  \n",
       "1          10.00  \n",
       "2           7.50  \n",
       "3          10.00  \n",
       "4           6.25  "
      ]
     },
     "execution_count": 6,
     "metadata": {},
     "output_type": "execute_result"
    }
   ],
   "source": [
    "# features\n",
    "x = dataset[['imdb', 'metascore', 'rotten_tomatoes', 'Main_actor_rate', 'Second_actor_rate', 'Director_rate']]\n",
    "x.head()\n"
   ]
  },
  {
   "cell_type": "code",
   "execution_count": 7,
   "id": "c72b6c63",
   "metadata": {},
   "outputs": [
    {
     "data": {
      "text/plain": [
       "0    0\n",
       "1    0\n",
       "2    1\n",
       "3    0\n",
       "4    2\n",
       "Name: cat_label, dtype: int32"
      ]
     },
     "execution_count": 7,
     "metadata": {},
     "output_type": "execute_result"
    }
   ],
   "source": [
    "# Label\n",
    "y=dataset['cat_label']\n",
    "y.head()"
   ]
  },
  {
   "cell_type": "markdown",
   "id": "7d1bad84",
   "metadata": {},
   "source": [
    "##### Split the features and label into training and test dataset"
   ]
  },
  {
   "cell_type": "code",
   "execution_count": 8,
   "id": "deb1010c",
   "metadata": {},
   "outputs": [
    {
     "name": "stdout",
     "output_type": "stream",
     "text": [
      "X_train Shape:  (178, 6)\n",
      "X_test Shape:  (45, 6)\n",
      "Y_train Shape:  (178,)\n",
      "Y_test Shape:  (45,)\n"
     ]
    }
   ],
   "source": [
    "x_train, x_test, y_train, y_test = train_test_split(x, y, test_size=0.2, random_state=0)\n",
    "\n",
    "print(\"X_train Shape: \", x_train.shape)\n",
    "print(\"X_test Shape: \", x_test.shape)\n",
    "print(\"Y_train Shape: \", y_train.shape)\n",
    "print(\"Y_test Shape: \", y_test.shape)"
   ]
  },
  {
   "cell_type": "markdown",
   "id": "054dedde",
   "metadata": {},
   "source": [
    "#### Model training"
   ]
  },
  {
   "cell_type": "code",
   "execution_count": 9,
   "id": "12432e43",
   "metadata": {},
   "outputs": [
    {
     "data": {
      "text/plain": [
       "AdaBoostClassifier(base_estimator=DecisionTreeClassifier(max_depth=4,\n",
       "                                                         min_samples_split=10),\n",
       "                   learning_rate=0.01, n_estimators=10)"
      ]
     },
     "execution_count": 9,
     "metadata": {},
     "output_type": "execute_result"
    }
   ],
   "source": [
    "from sklearn.naive_bayes import GaussianNB\n",
    "from sklearn.ensemble import AdaBoostClassifier\n",
    "from sklearn.tree import DecisionTreeClassifier\n",
    "\n",
    "\n",
    "\n",
    "adb = AdaBoostClassifier(DecisionTreeClassifier(min_samples_split=10,max_depth=4),n_estimators=10,learning_rate=0.01)\n",
    "\n",
    "# dt_classifier = DecisionTreeClassifier(criterion='entropy', max_leaf_nodes=12, random_state=0)\n",
    "\n",
    "adb.fit(x_train, y_train)"
   ]
  },
  {
   "cell_type": "code",
   "execution_count": 10,
   "id": "b9bbb927",
   "metadata": {},
   "outputs": [
    {
     "ename": "AttributeError",
     "evalue": "'AdaBoostClassifier' object has no attribute 'tree_'",
     "output_type": "error",
     "traceback": [
      "\u001b[1;31m---------------------------------------------------------------------------\u001b[0m",
      "\u001b[1;31mAttributeError\u001b[0m                            Traceback (most recent call last)",
      "\u001b[1;32m~\\AppData\\Local\\Temp/ipykernel_8848/3766624894.py\u001b[0m in \u001b[0;36m<module>\u001b[1;34m\u001b[0m\n\u001b[0;32m      1\u001b[0m \u001b[1;32mfrom\u001b[0m \u001b[0msklearn\u001b[0m \u001b[1;32mimport\u001b[0m \u001b[0mtree\u001b[0m\u001b[1;33m\u001b[0m\u001b[1;33m\u001b[0m\u001b[0m\n\u001b[1;32m----> 2\u001b[1;33m \u001b[0mprint\u001b[0m\u001b[1;33m(\u001b[0m\u001b[0mtree\u001b[0m\u001b[1;33m.\u001b[0m\u001b[0mplot_tree\u001b[0m\u001b[1;33m(\u001b[0m\u001b[0madb\u001b[0m\u001b[1;33m)\u001b[0m\u001b[1;33m)\u001b[0m\u001b[1;33m\u001b[0m\u001b[1;33m\u001b[0m\u001b[0m\n\u001b[0m",
      "\u001b[1;32m~\\anaconda3\\envs\\env_ml\\lib\\site-packages\\sklearn\\tree\\_export.py\u001b[0m in \u001b[0;36mplot_tree\u001b[1;34m(decision_tree, max_depth, feature_names, class_names, label, filled, impurity, node_ids, proportion, rounded, precision, ax, fontsize)\u001b[0m\n\u001b[0;32m    193\u001b[0m         \u001b[0mfontsize\u001b[0m\u001b[1;33m=\u001b[0m\u001b[0mfontsize\u001b[0m\u001b[1;33m,\u001b[0m\u001b[1;33m\u001b[0m\u001b[1;33m\u001b[0m\u001b[0m\n\u001b[0;32m    194\u001b[0m     )\n\u001b[1;32m--> 195\u001b[1;33m     \u001b[1;32mreturn\u001b[0m \u001b[0mexporter\u001b[0m\u001b[1;33m.\u001b[0m\u001b[0mexport\u001b[0m\u001b[1;33m(\u001b[0m\u001b[0mdecision_tree\u001b[0m\u001b[1;33m,\u001b[0m \u001b[0max\u001b[0m\u001b[1;33m=\u001b[0m\u001b[0max\u001b[0m\u001b[1;33m)\u001b[0m\u001b[1;33m\u001b[0m\u001b[1;33m\u001b[0m\u001b[0m\n\u001b[0m\u001b[0;32m    196\u001b[0m \u001b[1;33m\u001b[0m\u001b[0m\n\u001b[0;32m    197\u001b[0m \u001b[1;33m\u001b[0m\u001b[0m\n",
      "\u001b[1;32m~\\anaconda3\\envs\\env_ml\\lib\\site-packages\\sklearn\\tree\\_export.py\u001b[0m in \u001b[0;36mexport\u001b[1;34m(self, decision_tree, ax)\u001b[0m\n\u001b[0;32m    654\u001b[0m         \u001b[0max\u001b[0m\u001b[1;33m.\u001b[0m\u001b[0mclear\u001b[0m\u001b[1;33m(\u001b[0m\u001b[1;33m)\u001b[0m\u001b[1;33m\u001b[0m\u001b[1;33m\u001b[0m\u001b[0m\n\u001b[0;32m    655\u001b[0m         \u001b[0max\u001b[0m\u001b[1;33m.\u001b[0m\u001b[0mset_axis_off\u001b[0m\u001b[1;33m(\u001b[0m\u001b[1;33m)\u001b[0m\u001b[1;33m\u001b[0m\u001b[1;33m\u001b[0m\u001b[0m\n\u001b[1;32m--> 656\u001b[1;33m         \u001b[0mmy_tree\u001b[0m \u001b[1;33m=\u001b[0m \u001b[0mself\u001b[0m\u001b[1;33m.\u001b[0m\u001b[0m_make_tree\u001b[0m\u001b[1;33m(\u001b[0m\u001b[1;36m0\u001b[0m\u001b[1;33m,\u001b[0m \u001b[0mdecision_tree\u001b[0m\u001b[1;33m.\u001b[0m\u001b[0mtree_\u001b[0m\u001b[1;33m,\u001b[0m \u001b[0mdecision_tree\u001b[0m\u001b[1;33m.\u001b[0m\u001b[0mcriterion\u001b[0m\u001b[1;33m)\u001b[0m\u001b[1;33m\u001b[0m\u001b[1;33m\u001b[0m\u001b[0m\n\u001b[0m\u001b[0;32m    657\u001b[0m         \u001b[0mdraw_tree\u001b[0m \u001b[1;33m=\u001b[0m \u001b[0mbuchheim\u001b[0m\u001b[1;33m(\u001b[0m\u001b[0mmy_tree\u001b[0m\u001b[1;33m)\u001b[0m\u001b[1;33m\u001b[0m\u001b[1;33m\u001b[0m\u001b[0m\n\u001b[0;32m    658\u001b[0m \u001b[1;33m\u001b[0m\u001b[0m\n",
      "\u001b[1;31mAttributeError\u001b[0m: 'AdaBoostClassifier' object has no attribute 'tree_'"
     ]
    },
    {
     "data": {
      "image/png": "[encoded data removed]",
      "text/plain": [
       "<Figure size 432x288 with 1 Axes>"
      ]
     },
     "metadata": {
      "needs_background": "light"
     },
     "output_type": "display_data"
    }
   ],
   "source": [
    "from sklearn import tree\n",
    "print(tree.plot_tree(adb))"
   ]
  },
  {
   "cell_type": "markdown",
   "id": "7e697531",
   "metadata": {},
   "source": [
    "### Saving The Model"
   ]
  },
  {
   "cell_type": "code",
   "execution_count": 12,
   "id": "ffdf5677",
   "metadata": {},
   "outputs": [],
   "source": [
    "import pickle\n",
    "adb_pkl = open('adb_model.pkl', 'wb')\n",
    "pickle.dump(adb, adb_pkl)\n",
    "adb_pkl.close()"
   ]
  },
  {
   "cell_type": "markdown",
   "id": "696f146a",
   "metadata": {},
   "source": [
    "### Loading and using the saved model"
   ]
  },
  {
   "cell_type": "code",
   "execution_count": 13,
   "id": "021744c7",
   "metadata": {},
   "outputs": [
    {
     "name": "stderr",
     "output_type": "stream",
     "text": [
      "C:\\Users\\hp\\anaconda3\\envs\\env_ml\\lib\\site-packages\\sklearn\\base.py:450: UserWarning: X does not have valid feature names, but AdaBoostClassifier was fitted with feature names\n",
      "  warnings.warn(\n"
     ]
    },
    {
     "data": {
      "text/plain": [
       "array([2, 0, 1])"
      ]
     },
     "execution_count": 13,
     "metadata": {},
     "output_type": "execute_result"
    }
   ],
   "source": [
    "adb_model_pkl = open('adb_model.pkl', 'rb')\n",
    "adb_model = pickle.load(adb_model_pkl)\n",
    "\n",
    "# Predicting with sample data. This sample data are from the dataset and their category are 2, 0 and 1 respectively\n",
    "# And as we can see from the predicted results, they are correct.\n",
    "pred_from_loaded_model = adb_model.predict([[7.1, 5.9, 6.6, 7.5, 9.166667, 7.5],\n",
    "                                   [7.4, 9.9, 7.3, 10, 7.5, 10],\n",
    "                                  [6.3, 5.5, 3.6, 5, 5, 5],\n",
    "                                  ])\n",
    "pred_from_loaded_model"
   ]
  },
  {
   "cell_type": "markdown",
   "id": "924fd4d6",
   "metadata": {},
   "source": [
    "#### Prediction"
   ]
  },
  {
   "cell_type": "code",
   "execution_count": 9,
   "id": "37f878cc",
   "metadata": {},
   "outputs": [
    {
     "data": {
      "text/plain": [
       "array([0, 1, 1, 0, 0, 1, 0, 0, 2, 1, 2, 0, 0, 2, 2, 0, 2, 0, 0, 0, 2, 1,\n",
       "       0, 1, 1, 0, 1, 2, 1, 0, 1, 0, 0, 2, 0, 0, 1, 0, 0, 0, 1, 2, 2, 2,\n",
       "       1])"
      ]
     },
     "execution_count": 9,
     "metadata": {},
     "output_type": "execute_result"
    }
   ],
   "source": [
    "y_prediction = adb.predict(x_test)\n",
    "y_prediction"
   ]
  },
  {
   "cell_type": "markdown",
   "id": "fe59409a",
   "metadata": {},
   "source": [
    "#### Model Evaluation"
   ]
  },
  {
   "cell_type": "code",
   "execution_count": 10,
   "id": "e1e479a6",
   "metadata": {},
   "outputs": [],
   "source": [
    "from sklearn import metrics"
   ]
  },
  {
   "cell_type": "code",
   "execution_count": 11,
   "id": "0d587ee7",
   "metadata": {},
   "outputs": [
    {
     "name": "stdout",
     "output_type": "stream",
     "text": [
      "Accuracy Score: 97.78%\n",
      "\n",
      "Precision Score: 96.97%\n",
      "\n",
      "Recall Score: 97.62%\n",
      "\n",
      "F1 Score: 97.18%\n"
     ]
    }
   ],
   "source": [
    "print('Accuracy Score: {:.2f}%'.format(metrics.accuracy_score(y_test, y_prediction) * 100))  \n",
    "print('')\n",
    "print('Precision Score: {:.2f}%'.format(metrics.precision_score(y_test, y_prediction, average='macro') * 100))\n",
    "print('')\n",
    "print('Recall Score: {:.2f}%'.format(metrics.recall_score(y_test, y_prediction, average='macro') * 100))\n",
    "print('')\n",
    "print('F1 Score: {:.2f}%'.format(metrics.f1_score(y_test, y_prediction, average='macro') * 100))\n"
   ]
  },
  {
   "cell_type": "code",
   "execution_count": null,
   "id": "666c6c2d",
   "metadata": {},
   "outputs": [],
   "source": []
  },
  {
   "cell_type": "code",
   "execution_count": null,
   "id": "47aa6663",
   "metadata": {},
   "outputs": [],
   "source": []
  },
  {
   "cell_type": "code",
   "execution_count": null,
   "id": "bbcfa7e5",
   "metadata": {},
   "outputs": [],
   "source": []
  }
 ],
 "metadata": {
  "kernelspec": {
   "display_name": "Python 3 (ipykernel)",
   "language": "python",
   "name": "python3"
  },
  "language_info": {
   "codemirror_mode": {
    "name": "ipython",
    "version": 3
   },
   "file_extension": ".py",
   "mimetype": "text/x-python",
   "name": "python",
   "nbconvert_exporter": "python",
   "pygments_lexer": "ipython3",
   "version": "3.8.0"
  }
 },
 "nbformat": 4,
 "nbformat_minor": 5
}
