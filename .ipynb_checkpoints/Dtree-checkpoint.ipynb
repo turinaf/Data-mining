{
 "cells": [
  {
   "cell_type": "code",
   "execution_count": 1,
   "metadata": {},
   "outputs": [],
   "source": [
    "import pandas as pd\n",
    "import numpy as np\n",
    "\n",
    "import matplotlib.pyplot as plt\n",
    "import seaborn as sns\n",
    "\n",
    "from pprint import pprint\n",
    "import random\n",
    "from sklearn.preprocessing import LabelEncoder"
   ]
  },
  {
   "cell_type": "code",
   "execution_count": 2,
   "metadata": {},
   "outputs": [
    {
     "data": {
      "text/html": [
       "<div>\n",
       "<style scoped>\n",
       "    .dataframe tbody tr th:only-of-type {\n",
       "        vertical-align: middle;\n",
       "    }\n",
       "\n",
       "    .dataframe tbody tr th {\n",
       "        vertical-align: top;\n",
       "    }\n",
       "\n",
       "    .dataframe thead th {\n",
       "        text-align: right;\n",
       "    }\n",
       "</style>\n",
       "<table border=\"1\" class=\"dataframe\">\n",
       "  <thead>\n",
       "    <tr style=\"text-align: right;\">\n",
       "      <th></th>\n",
       "      <th>Unnamed: 0</th>\n",
       "      <th>title</th>\n",
       "      <th>Budget</th>\n",
       "      <th>Box_office</th>\n",
       "      <th>actor1</th>\n",
       "      <th>actor2</th>\n",
       "      <th>Director</th>\n",
       "      <th>Release_year</th>\n",
       "      <th>Profit</th>\n",
       "      <th>imdb</th>\n",
       "      <th>metascore</th>\n",
       "      <th>rotten_tomatoes</th>\n",
       "      <th>Actor1_rate</th>\n",
       "      <th>Actor2_rate</th>\n",
       "      <th>Director_rate</th>\n",
       "      <th>Category</th>\n",
       "    </tr>\n",
       "  </thead>\n",
       "  <tbody>\n",
       "    <tr>\n",
       "      <th>0</th>\n",
       "      <td>0</td>\n",
       "      <td>Snow White and the Seven Dwarfs</td>\n",
       "      <td>1490000.0</td>\n",
       "      <td>418000000.0</td>\n",
       "      <td>Adriana Caselotti</td>\n",
       "      <td>Lucille La Verne</td>\n",
       "      <td>David Hand (supervising)</td>\n",
       "      <td>1937</td>\n",
       "      <td>416510000.0</td>\n",
       "      <td>7.6</td>\n",
       "      <td>9.5</td>\n",
       "      <td>5.0</td>\n",
       "      <td>10.0</td>\n",
       "      <td>10.0</td>\n",
       "      <td>10.0</td>\n",
       "      <td>Blockbuster</td>\n",
       "    </tr>\n",
       "    <tr>\n",
       "      <th>1</th>\n",
       "      <td>1</td>\n",
       "      <td>Pinocchio</td>\n",
       "      <td>2600000.0</td>\n",
       "      <td>164000000.0</td>\n",
       "      <td>Cliff Edwards</td>\n",
       "      <td>Dickie Jones</td>\n",
       "      <td>Ben Sharpsteen</td>\n",
       "      <td>1940</td>\n",
       "      <td>161400000.0</td>\n",
       "      <td>7.4</td>\n",
       "      <td>9.9</td>\n",
       "      <td>7.3</td>\n",
       "      <td>10.0</td>\n",
       "      <td>10.0</td>\n",
       "      <td>7.5</td>\n",
       "      <td>Blockbuster</td>\n",
       "    </tr>\n",
       "    <tr>\n",
       "      <th>2</th>\n",
       "      <td>2</td>\n",
       "      <td>Fantasia</td>\n",
       "      <td>2280000.0</td>\n",
       "      <td>83300000.0</td>\n",
       "      <td>Leopold Stokowski</td>\n",
       "      <td>Deems Taylor</td>\n",
       "      <td>Samuel Armstrong</td>\n",
       "      <td>1940</td>\n",
       "      <td>81020000.0</td>\n",
       "      <td>7.7</td>\n",
       "      <td>9.6</td>\n",
       "      <td>9.5</td>\n",
       "      <td>10.0</td>\n",
       "      <td>10.0</td>\n",
       "      <td>10.0</td>\n",
       "      <td>Blockbuster</td>\n",
       "    </tr>\n",
       "    <tr>\n",
       "      <th>3</th>\n",
       "      <td>3</td>\n",
       "      <td>The Reluctant Dragon</td>\n",
       "      <td>600000.0</td>\n",
       "      <td>960000.0</td>\n",
       "      <td>Robert Benchley</td>\n",
       "      <td>Frances Gifford</td>\n",
       "      <td>Alfred Werker</td>\n",
       "      <td>1941</td>\n",
       "      <td>360000.0</td>\n",
       "      <td>6.9</td>\n",
       "      <td>5.0</td>\n",
       "      <td>6.8</td>\n",
       "      <td>5.0</td>\n",
       "      <td>5.0</td>\n",
       "      <td>5.0</td>\n",
       "      <td>Flop</td>\n",
       "    </tr>\n",
       "    <tr>\n",
       "      <th>4</th>\n",
       "      <td>4</td>\n",
       "      <td>Dumbo</td>\n",
       "      <td>950000.0</td>\n",
       "      <td>1300000.0</td>\n",
       "      <td>Edward Brophy</td>\n",
       "      <td>Herman Bing</td>\n",
       "      <td>Ben Sharpsteen</td>\n",
       "      <td>1941</td>\n",
       "      <td>350000.0</td>\n",
       "      <td>7.2</td>\n",
       "      <td>9.6</td>\n",
       "      <td>9.8</td>\n",
       "      <td>5.0</td>\n",
       "      <td>5.0</td>\n",
       "      <td>7.5</td>\n",
       "      <td>Flop</td>\n",
       "    </tr>\n",
       "  </tbody>\n",
       "</table>\n",
       "</div>"
      ],
      "text/plain": [
       "   Unnamed: 0                            title     Budget   Box_office  \\\n",
       "0           0  Snow White and the Seven Dwarfs  1490000.0  418000000.0   \n",
       "1           1                        Pinocchio  2600000.0  164000000.0   \n",
       "2           2                         Fantasia  2280000.0   83300000.0   \n",
       "3           3             The Reluctant Dragon   600000.0     960000.0   \n",
       "4           4                            Dumbo   950000.0    1300000.0   \n",
       "\n",
       "              actor1            actor2                  Director  \\\n",
       "0  Adriana Caselotti  Lucille La Verne  David Hand (supervising)   \n",
       "1      Cliff Edwards      Dickie Jones            Ben Sharpsteen   \n",
       "2  Leopold Stokowski      Deems Taylor          Samuel Armstrong   \n",
       "3    Robert Benchley   Frances Gifford             Alfred Werker   \n",
       "4      Edward Brophy       Herman Bing            Ben Sharpsteen   \n",
       "\n",
       "   Release_year       Profit  imdb  metascore  rotten_tomatoes  Actor1_rate  \\\n",
       "0          1937  416510000.0   7.6        9.5              5.0         10.0   \n",
       "1          1940  161400000.0   7.4        9.9              7.3         10.0   \n",
       "2          1940   81020000.0   7.7        9.6              9.5         10.0   \n",
       "3          1941     360000.0   6.9        5.0              6.8          5.0   \n",
       "4          1941     350000.0   7.2        9.6              9.8          5.0   \n",
       "\n",
       "   Actor2_rate  Director_rate     Category  \n",
       "0         10.0           10.0  Blockbuster  \n",
       "1         10.0            7.5  Blockbuster  \n",
       "2         10.0           10.0  Blockbuster  \n",
       "3          5.0            5.0         Flop  \n",
       "4          5.0            7.5         Flop  "
      ]
     },
     "execution_count": 2,
     "metadata": {},
     "output_type": "execute_result"
    }
   ],
   "source": [
    "df = pd.read_csv('disney.csv')\n",
    "df.head()"
   ]
  },
  {
   "cell_type": "code",
   "execution_count": 3,
   "metadata": {},
   "outputs": [],
   "source": [
    "le = LabelEncoder()"
   ]
  },
  {
   "cell_type": "code",
   "execution_count": 4,
   "metadata": {},
   "outputs": [],
   "source": [
    "label = le.fit_transform(df['Category'])"
   ]
  },
  {
   "cell_type": "code",
   "execution_count": 5,
   "metadata": {},
   "outputs": [
    {
     "data": {
      "text/html": [
       "<div>\n",
       "<style scoped>\n",
       "    .dataframe tbody tr th:only-of-type {\n",
       "        vertical-align: middle;\n",
       "    }\n",
       "\n",
       "    .dataframe tbody tr th {\n",
       "        vertical-align: top;\n",
       "    }\n",
       "\n",
       "    .dataframe thead th {\n",
       "        text-align: right;\n",
       "    }\n",
       "</style>\n",
       "<table border=\"1\" class=\"dataframe\">\n",
       "  <thead>\n",
       "    <tr style=\"text-align: right;\">\n",
       "      <th></th>\n",
       "      <th>Unnamed: 0</th>\n",
       "      <th>title</th>\n",
       "      <th>Budget</th>\n",
       "      <th>Box_office</th>\n",
       "      <th>actor1</th>\n",
       "      <th>actor2</th>\n",
       "      <th>Director</th>\n",
       "      <th>Release_year</th>\n",
       "      <th>Profit</th>\n",
       "      <th>imdb</th>\n",
       "      <th>metascore</th>\n",
       "      <th>rotten_tomatoes</th>\n",
       "      <th>Actor1_rate</th>\n",
       "      <th>Actor2_rate</th>\n",
       "      <th>Director_rate</th>\n",
       "      <th>Category</th>\n",
       "      <th>cat</th>\n",
       "    </tr>\n",
       "  </thead>\n",
       "  <tbody>\n",
       "    <tr>\n",
       "      <th>0</th>\n",
       "      <td>0</td>\n",
       "      <td>Snow White and the Seven Dwarfs</td>\n",
       "      <td>1490000.0</td>\n",
       "      <td>418000000.0</td>\n",
       "      <td>Adriana Caselotti</td>\n",
       "      <td>Lucille La Verne</td>\n",
       "      <td>David Hand (supervising)</td>\n",
       "      <td>1937</td>\n",
       "      <td>416510000.0</td>\n",
       "      <td>7.6</td>\n",
       "      <td>9.5</td>\n",
       "      <td>5.0</td>\n",
       "      <td>10.0</td>\n",
       "      <td>10.0</td>\n",
       "      <td>10.0</td>\n",
       "      <td>Blockbuster</td>\n",
       "      <td>0</td>\n",
       "    </tr>\n",
       "    <tr>\n",
       "      <th>1</th>\n",
       "      <td>1</td>\n",
       "      <td>Pinocchio</td>\n",
       "      <td>2600000.0</td>\n",
       "      <td>164000000.0</td>\n",
       "      <td>Cliff Edwards</td>\n",
       "      <td>Dickie Jones</td>\n",
       "      <td>Ben Sharpsteen</td>\n",
       "      <td>1940</td>\n",
       "      <td>161400000.0</td>\n",
       "      <td>7.4</td>\n",
       "      <td>9.9</td>\n",
       "      <td>7.3</td>\n",
       "      <td>10.0</td>\n",
       "      <td>10.0</td>\n",
       "      <td>7.5</td>\n",
       "      <td>Blockbuster</td>\n",
       "      <td>0</td>\n",
       "    </tr>\n",
       "    <tr>\n",
       "      <th>2</th>\n",
       "      <td>2</td>\n",
       "      <td>Fantasia</td>\n",
       "      <td>2280000.0</td>\n",
       "      <td>83300000.0</td>\n",
       "      <td>Leopold Stokowski</td>\n",
       "      <td>Deems Taylor</td>\n",
       "      <td>Samuel Armstrong</td>\n",
       "      <td>1940</td>\n",
       "      <td>81020000.0</td>\n",
       "      <td>7.7</td>\n",
       "      <td>9.6</td>\n",
       "      <td>9.5</td>\n",
       "      <td>10.0</td>\n",
       "      <td>10.0</td>\n",
       "      <td>10.0</td>\n",
       "      <td>Blockbuster</td>\n",
       "      <td>0</td>\n",
       "    </tr>\n",
       "    <tr>\n",
       "      <th>3</th>\n",
       "      <td>3</td>\n",
       "      <td>The Reluctant Dragon</td>\n",
       "      <td>600000.0</td>\n",
       "      <td>960000.0</td>\n",
       "      <td>Robert Benchley</td>\n",
       "      <td>Frances Gifford</td>\n",
       "      <td>Alfred Werker</td>\n",
       "      <td>1941</td>\n",
       "      <td>360000.0</td>\n",
       "      <td>6.9</td>\n",
       "      <td>5.0</td>\n",
       "      <td>6.8</td>\n",
       "      <td>5.0</td>\n",
       "      <td>5.0</td>\n",
       "      <td>5.0</td>\n",
       "      <td>Flop</td>\n",
       "      <td>1</td>\n",
       "    </tr>\n",
       "    <tr>\n",
       "      <th>4</th>\n",
       "      <td>4</td>\n",
       "      <td>Dumbo</td>\n",
       "      <td>950000.0</td>\n",
       "      <td>1300000.0</td>\n",
       "      <td>Edward Brophy</td>\n",
       "      <td>Herman Bing</td>\n",
       "      <td>Ben Sharpsteen</td>\n",
       "      <td>1941</td>\n",
       "      <td>350000.0</td>\n",
       "      <td>7.2</td>\n",
       "      <td>9.6</td>\n",
       "      <td>9.8</td>\n",
       "      <td>5.0</td>\n",
       "      <td>5.0</td>\n",
       "      <td>7.5</td>\n",
       "      <td>Flop</td>\n",
       "      <td>1</td>\n",
       "    </tr>\n",
       "  </tbody>\n",
       "</table>\n",
       "</div>"
      ],
      "text/plain": [
       "   Unnamed: 0                            title     Budget   Box_office  \\\n",
       "0           0  Snow White and the Seven Dwarfs  1490000.0  418000000.0   \n",
       "1           1                        Pinocchio  2600000.0  164000000.0   \n",
       "2           2                         Fantasia  2280000.0   83300000.0   \n",
       "3           3             The Reluctant Dragon   600000.0     960000.0   \n",
       "4           4                            Dumbo   950000.0    1300000.0   \n",
       "\n",
       "              actor1            actor2                  Director  \\\n",
       "0  Adriana Caselotti  Lucille La Verne  David Hand (supervising)   \n",
       "1      Cliff Edwards      Dickie Jones            Ben Sharpsteen   \n",
       "2  Leopold Stokowski      Deems Taylor          Samuel Armstrong   \n",
       "3    Robert Benchley   Frances Gifford             Alfred Werker   \n",
       "4      Edward Brophy       Herman Bing            Ben Sharpsteen   \n",
       "\n",
       "   Release_year       Profit  imdb  metascore  rotten_tomatoes  Actor1_rate  \\\n",
       "0          1937  416510000.0   7.6        9.5              5.0         10.0   \n",
       "1          1940  161400000.0   7.4        9.9              7.3         10.0   \n",
       "2          1940   81020000.0   7.7        9.6              9.5         10.0   \n",
       "3          1941     360000.0   6.9        5.0              6.8          5.0   \n",
       "4          1941     350000.0   7.2        9.6              9.8          5.0   \n",
       "\n",
       "   Actor2_rate  Director_rate     Category  cat  \n",
       "0         10.0           10.0  Blockbuster    0  \n",
       "1         10.0            7.5  Blockbuster    0  \n",
       "2         10.0           10.0  Blockbuster    0  \n",
       "3          5.0            5.0         Flop    1  \n",
       "4          5.0            7.5         Flop    1  "
      ]
     },
     "execution_count": 5,
     "metadata": {},
     "output_type": "execute_result"
    }
   ],
   "source": [
    "df['cat'] = label\n",
    "df.head()"
   ]
  },
  {
   "cell_type": "code",
   "execution_count": 6,
   "metadata": {},
   "outputs": [
    {
     "data": {
      "text/plain": [
       "Index(['Unnamed: 0', 'title', 'Budget', 'Box_office', 'actor1', 'actor2',\n",
       "       'Director', 'Release_year', 'Profit', 'imdb', 'metascore',\n",
       "       'rotten_tomatoes', 'Actor1_rate', 'Actor2_rate', 'Director_rate',\n",
       "       'Category', 'cat'],\n",
       "      dtype='object')"
      ]
     },
     "execution_count": 6,
     "metadata": {},
     "output_type": "execute_result"
    }
   ],
   "source": [
    "df.columns"
   ]
  },
  {
   "cell_type": "code",
   "execution_count": 7,
   "metadata": {},
   "outputs": [
    {
     "data": {
      "text/html": [
       "<div>\n",
       "<style scoped>\n",
       "    .dataframe tbody tr th:only-of-type {\n",
       "        vertical-align: middle;\n",
       "    }\n",
       "\n",
       "    .dataframe tbody tr th {\n",
       "        vertical-align: top;\n",
       "    }\n",
       "\n",
       "    .dataframe thead th {\n",
       "        text-align: right;\n",
       "    }\n",
       "</style>\n",
       "<table border=\"1\" class=\"dataframe\">\n",
       "  <thead>\n",
       "    <tr style=\"text-align: right;\">\n",
       "      <th></th>\n",
       "      <th>title</th>\n",
       "      <th>Budget</th>\n",
       "      <th>Box_office</th>\n",
       "      <th>actor1</th>\n",
       "      <th>actor2</th>\n",
       "      <th>Director</th>\n",
       "      <th>Release_year</th>\n",
       "      <th>Profit</th>\n",
       "      <th>Category</th>\n",
       "      <th>imdb</th>\n",
       "      <th>metascore</th>\n",
       "      <th>rotten_tomatoes</th>\n",
       "      <th>Actor1_rate</th>\n",
       "      <th>Actor2_rate</th>\n",
       "      <th>Director_rate</th>\n",
       "      <th>cat</th>\n",
       "    </tr>\n",
       "  </thead>\n",
       "  <tbody>\n",
       "    <tr>\n",
       "      <th>0</th>\n",
       "      <td>Snow White and the Seven Dwarfs</td>\n",
       "      <td>1490000.0</td>\n",
       "      <td>418000000.0</td>\n",
       "      <td>Adriana Caselotti</td>\n",
       "      <td>Lucille La Verne</td>\n",
       "      <td>David Hand (supervising)</td>\n",
       "      <td>1937</td>\n",
       "      <td>416510000.0</td>\n",
       "      <td>Blockbuster</td>\n",
       "      <td>7.6</td>\n",
       "      <td>9.5</td>\n",
       "      <td>5.0</td>\n",
       "      <td>10.0</td>\n",
       "      <td>10.0</td>\n",
       "      <td>10.0</td>\n",
       "      <td>0</td>\n",
       "    </tr>\n",
       "    <tr>\n",
       "      <th>1</th>\n",
       "      <td>Pinocchio</td>\n",
       "      <td>2600000.0</td>\n",
       "      <td>164000000.0</td>\n",
       "      <td>Cliff Edwards</td>\n",
       "      <td>Dickie Jones</td>\n",
       "      <td>Ben Sharpsteen</td>\n",
       "      <td>1940</td>\n",
       "      <td>161400000.0</td>\n",
       "      <td>Blockbuster</td>\n",
       "      <td>7.4</td>\n",
       "      <td>9.9</td>\n",
       "      <td>7.3</td>\n",
       "      <td>10.0</td>\n",
       "      <td>10.0</td>\n",
       "      <td>7.5</td>\n",
       "      <td>0</td>\n",
       "    </tr>\n",
       "    <tr>\n",
       "      <th>2</th>\n",
       "      <td>Fantasia</td>\n",
       "      <td>2280000.0</td>\n",
       "      <td>83300000.0</td>\n",
       "      <td>Leopold Stokowski</td>\n",
       "      <td>Deems Taylor</td>\n",
       "      <td>Samuel Armstrong</td>\n",
       "      <td>1940</td>\n",
       "      <td>81020000.0</td>\n",
       "      <td>Blockbuster</td>\n",
       "      <td>7.7</td>\n",
       "      <td>9.6</td>\n",
       "      <td>9.5</td>\n",
       "      <td>10.0</td>\n",
       "      <td>10.0</td>\n",
       "      <td>10.0</td>\n",
       "      <td>0</td>\n",
       "    </tr>\n",
       "    <tr>\n",
       "      <th>3</th>\n",
       "      <td>The Reluctant Dragon</td>\n",
       "      <td>600000.0</td>\n",
       "      <td>960000.0</td>\n",
       "      <td>Robert Benchley</td>\n",
       "      <td>Frances Gifford</td>\n",
       "      <td>Alfred Werker</td>\n",
       "      <td>1941</td>\n",
       "      <td>360000.0</td>\n",
       "      <td>Flop</td>\n",
       "      <td>6.9</td>\n",
       "      <td>5.0</td>\n",
       "      <td>6.8</td>\n",
       "      <td>5.0</td>\n",
       "      <td>5.0</td>\n",
       "      <td>5.0</td>\n",
       "      <td>1</td>\n",
       "    </tr>\n",
       "    <tr>\n",
       "      <th>4</th>\n",
       "      <td>Dumbo</td>\n",
       "      <td>950000.0</td>\n",
       "      <td>1300000.0</td>\n",
       "      <td>Edward Brophy</td>\n",
       "      <td>Herman Bing</td>\n",
       "      <td>Ben Sharpsteen</td>\n",
       "      <td>1941</td>\n",
       "      <td>350000.0</td>\n",
       "      <td>Flop</td>\n",
       "      <td>7.2</td>\n",
       "      <td>9.6</td>\n",
       "      <td>9.8</td>\n",
       "      <td>5.0</td>\n",
       "      <td>5.0</td>\n",
       "      <td>7.5</td>\n",
       "      <td>1</td>\n",
       "    </tr>\n",
       "  </tbody>\n",
       "</table>\n",
       "</div>"
      ],
      "text/plain": [
       "                             title     Budget   Box_office             actor1  \\\n",
       "0  Snow White and the Seven Dwarfs  1490000.0  418000000.0  Adriana Caselotti   \n",
       "1                        Pinocchio  2600000.0  164000000.0      Cliff Edwards   \n",
       "2                         Fantasia  2280000.0   83300000.0  Leopold Stokowski   \n",
       "3             The Reluctant Dragon   600000.0     960000.0    Robert Benchley   \n",
       "4                            Dumbo   950000.0    1300000.0      Edward Brophy   \n",
       "\n",
       "             actor2                  Director  Release_year       Profit  \\\n",
       "0  Lucille La Verne  David Hand (supervising)          1937  416510000.0   \n",
       "1      Dickie Jones            Ben Sharpsteen          1940  161400000.0   \n",
       "2      Deems Taylor          Samuel Armstrong          1940   81020000.0   \n",
       "3   Frances Gifford             Alfred Werker          1941     360000.0   \n",
       "4       Herman Bing            Ben Sharpsteen          1941     350000.0   \n",
       "\n",
       "      Category  imdb  metascore  rotten_tomatoes  Actor1_rate  Actor2_rate  \\\n",
       "0  Blockbuster   7.6        9.5              5.0         10.0         10.0   \n",
       "1  Blockbuster   7.4        9.9              7.3         10.0         10.0   \n",
       "2  Blockbuster   7.7        9.6              9.5         10.0         10.0   \n",
       "3         Flop   6.9        5.0              6.8          5.0          5.0   \n",
       "4         Flop   7.2        9.6              9.8          5.0          5.0   \n",
       "\n",
       "   Director_rate  cat  \n",
       "0           10.0    0  \n",
       "1            7.5    0  \n",
       "2           10.0    0  \n",
       "3            5.0    1  \n",
       "4            7.5    1  "
      ]
     },
     "execution_count": 7,
     "metadata": {},
     "output_type": "execute_result"
    }
   ],
   "source": [
    "df = df[['title', 'Budget', 'Box_office', 'actor1', 'actor2',\n",
    "       'Director', 'Release_year', 'Profit','Category', 'imdb', 'metascore',\n",
    "       'rotten_tomatoes', 'Actor1_rate', 'Actor2_rate', 'Director_rate', 'cat']]\n",
    "df.head()"
   ]
  },
  {
   "cell_type": "code",
   "execution_count": 8,
   "metadata": {},
   "outputs": [],
   "source": [
    "from sklearn.model_selection import train_test_split\n",
    "from sklearn.tree import DecisionTreeClassifier\n",
    "\n",
    "df.to_csv(\"final_prediction_data.csv\")\n",
    "dataframe = pd.read_csv(\"final_prediction_data.csv\")"
   ]
  },
  {
   "cell_type": "code",
   "execution_count": 9,
   "metadata": {},
   "outputs": [],
   "source": [
    "y = dataframe['cat']"
   ]
  },
  {
   "cell_type": "code",
   "execution_count": 13,
   "metadata": {},
   "outputs": [],
   "source": [
    "x = dataframe[['imdb', 'metascore','rotten_tomatoes', 'Actor1_rate', 'Actor2_rate', 'Director_rate']]\n",
    "\n",
    "mydata = dataframe[['title','imdb', 'metascore','rotten_tomatoes', 'Actor1_rate', 'Actor2_rate', 'Director_rate','Category']]\n",
    "mydata.to_csv('final_data.csv')"
   ]
  },
  {
   "cell_type": "code",
   "execution_count": 42,
   "metadata": {},
   "outputs": [
    {
     "data": {
      "text/plain": [
       "194    2\n",
       "153    1\n",
       "145    0\n",
       "8      0\n",
       "111    2\n",
       "222    2\n",
       "201    2\n",
       "187    2\n",
       "168    0\n",
       "176    0\n",
       "Name: cat, dtype: int64"
      ]
     },
     "execution_count": 42,
     "metadata": {},
     "output_type": "execute_result"
    }
   ],
   "source": [
    "x_train, x_test, y_train, y_test = train_test_split(x, y,test_size=0.2, random_state=0)\n",
    "\n",
    "movie_classifier = DecisionTreeClassifier(max_leaf_nodes=10, random_state=0)\n",
    "movie_classifier.fit(x_train,y_train)\n",
    "\n",
    "y_test.head(10)"
   ]
  },
  {
   "cell_type": "code",
   "execution_count": 43,
   "metadata": {},
   "outputs": [
    {
     "data": {
      "text/plain": [
       "array([2, 1, 0, 0, 2, 2, 2, 2, 0, 0, 1, 2, 2, 1, 1, 0, 1, 0, 0, 2, 1, 0,\n",
       "       1, 0, 0, 2, 0, 0, 0, 1, 2, 1, 0, 1, 0, 0, 1, 0, 1, 1, 2, 0, 1, 0,\n",
       "       0, 2, 0, 1, 1, 0, 1, 0, 1], dtype=int64)"
      ]
     },
     "execution_count": 43,
     "metadata": {},
     "output_type": "execute_result"
    }
   ],
   "source": [
    "y_predicted = movie_classifier.predict(x_test)\n",
    "y_predicted"
   ]
  },
  {
   "cell_type": "code",
   "execution_count": 44,
   "metadata": {},
   "outputs": [],
   "source": [
    "from sklearn.metrics import accuracy_score, confusion_matrix, average_precision_score"
   ]
  },
  {
   "cell_type": "code",
   "execution_count": 65,
   "metadata": {},
   "outputs": [
    {
     "data": {
      "text/plain": [
       "94.33962264150944"
      ]
     },
     "execution_count": 65,
     "metadata": {},
     "output_type": "execute_result"
    }
   ],
   "source": [
    "accuracy_score(y_test, y_predicted)*100"
   ]
  },
  {
   "cell_type": "code",
   "execution_count": 62,
   "metadata": {},
   "outputs": [
    {
     "name": "stdout",
     "output_type": "stream",
     "text": [
      "[[22  0  1]\n",
      " [ 0 17  0]\n",
      " [ 1  1 11]]\n"
     ]
    }
   ],
   "source": [
    "from sklearn.metrics import accuracy_score, confusion_matrix\n",
    "\n",
    "print(confusion_matrix(y_test, y_predicted))"
   ]
  },
  {
   "cell_type": "code",
   "execution_count": 66,
   "metadata": {},
   "outputs": [
    {
     "name": "stdout",
     "output_type": "stream",
     "text": [
      "[Text(111.60000000000001, 201.90857142857143, 'X[4] <= 6.875\\ngini = 0.654\\nsamples = 209\\nvalue = [83, 75, 51]'), Text(74.4, 170.84571428571428, 'gini = 0.029\\nsamples = 69\\nvalue = [0, 68, 1]'), Text(148.8, 170.84571428571428, 'X[4] <= 7.917\\ngini = 0.518\\nsamples = 140\\nvalue = [83, 7, 50]'), Text(74.4, 139.78285714285715, 'X[5] <= 5.625\\ngini = 0.215\\nsamples = 51\\nvalue = [3, 3, 45]'), Text(37.2, 108.72, 'gini = 0.0\\nsamples = 2\\nvalue = [0, 2, 0]'), Text(111.60000000000001, 108.72, 'X[3] <= 9.375\\ngini = 0.152\\nsamples = 49\\nvalue = [3, 1, 45]'), Text(74.4, 77.65714285714284, 'X[3] <= 8.542\\ngini = 0.082\\nsamples = 47\\nvalue = [1, 1, 45]'), Text(37.2, 46.59428571428572, 'gini = 0.0\\nsamples = 42\\nvalue = [0, 0, 42]'), Text(111.60000000000001, 46.59428571428572, 'X[5] <= 7.5\\ngini = 0.56\\nsamples = 5\\nvalue = [1, 1, 3]'), Text(74.4, 15.531428571428563, 'gini = 0.0\\nsamples = 1\\nvalue = [0, 1, 0]'), Text(148.8, 15.531428571428563, 'gini = 0.375\\nsamples = 4\\nvalue = [1, 0, 3]'), Text(148.8, 77.65714285714284, 'gini = 0.0\\nsamples = 2\\nvalue = [2, 0, 0]'), Text(223.20000000000002, 139.78285714285715, 'X[5] <= 6.458\\ngini = 0.187\\nsamples = 89\\nvalue = [80, 4, 5]'), Text(186.0, 108.72, 'gini = 0.0\\nsamples = 4\\nvalue = [0, 4, 0]'), Text(260.40000000000003, 108.72, 'X[4] <= 9.375\\ngini = 0.111\\nsamples = 85\\nvalue = [80, 0, 5]'), Text(223.20000000000002, 77.65714285714284, 'X[5] <= 9.062\\ngini = 0.459\\nsamples = 14\\nvalue = [9, 0, 5]'), Text(186.0, 46.59428571428572, 'gini = 0.0\\nsamples = 4\\nvalue = [0, 0, 4]'), Text(260.40000000000003, 46.59428571428572, 'gini = 0.18\\nsamples = 10\\nvalue = [9, 0, 1]'), Text(297.6, 77.65714285714284, 'gini = 0.0\\nsamples = 71\\nvalue = [71, 0, 0]')]\n"
     ]
    },
    {
     "data": {
      "image/png": "[encoded data removed]",
      "text/plain": [
       "<Figure size 432x288 with 1 Axes>"
      ]
     },
     "metadata": {
      "needs_background": "light"
     },
     "output_type": "display_data"
    }
   ],
   "source": [
    "from sklearn import tree\n",
    "print(tree.plot_tree(movie_classifier))"
   ]
  },
  {
   "cell_type": "code",
   "execution_count": 48,
   "metadata": {},
   "outputs": [
    {
     "data": {
      "text/plain": [
       "'disney_dtree.pdf'"
      ]
     },
     "execution_count": 48,
     "metadata": {},
     "output_type": "execute_result"
    }
   ],
   "source": [
    "import graphviz \n",
    "dot_data = tree.export_graphviz(movie_classifier, out_file=None) \n",
    "graph = graphviz.Source(dot_data) \n",
    "graph.render(\"disney_dtree\") "
   ]
  },
  {
   "cell_type": "code",
   "execution_count": 49,
   "metadata": {},
   "outputs": [
    {
     "data": {
      "text/plain": [
       "Index(['Unnamed: 0', 'title', 'Budget', 'Box_office', 'actor1', 'actor2',\n",
       "       'Director', 'Release_year', 'Profit', 'Category', 'imdb', 'metascore',\n",
       "       'rotten_tomatoes', 'Actor1_rate', 'Actor2_rate', 'Director_rate',\n",
       "       'cat'],\n",
       "      dtype='object')"
      ]
     },
     "execution_count": 49,
     "metadata": {},
     "output_type": "execute_result"
    }
   ],
   "source": [
    "dataframe.columns"
   ]
  },
  {
   "cell_type": "code",
   "execution_count": 50,
   "metadata": {},
   "outputs": [
    {
     "data": {
      "text/plain": [
       "0.3875096100660662"
      ]
     },
     "execution_count": 50,
     "metadata": {},
     "output_type": "execute_result"
    }
   ],
   "source": [
    "dataframe['imdb'].corr(dataframe['Box_office'])"
   ]
  },
  {
   "cell_type": "code",
   "execution_count": 52,
   "metadata": {},
   "outputs": [
    {
     "data": {
      "text/plain": [
       "0.35222605306120874"
      ]
     },
     "execution_count": 52,
     "metadata": {},
     "output_type": "execute_result"
    }
   ],
   "source": [
    "dataframe['metascore'].corr(dataframe['Box_office'])"
   ]
  },
  {
   "cell_type": "code",
   "execution_count": 53,
   "metadata": {},
   "outputs": [
    {
     "data": {
      "text/plain": [
       "0.2737361309233583"
      ]
     },
     "execution_count": 53,
     "metadata": {},
     "output_type": "execute_result"
    }
   ],
   "source": [
    "dataframe['rotten_tomatoes'].corr(dataframe['Box_office'])"
   ]
  },
  {
   "cell_type": "code",
   "execution_count": 54,
   "metadata": {},
   "outputs": [
    {
     "data": {
      "text/plain": [
       "0.4284282073232653"
      ]
     },
     "execution_count": 54,
     "metadata": {},
     "output_type": "execute_result"
    }
   ],
   "source": [
    "dataframe['Actor1_rate'].corr(dataframe['Box_office'])"
   ]
  },
  {
   "cell_type": "code",
   "execution_count": 55,
   "metadata": {},
   "outputs": [
    {
     "data": {
      "text/plain": [
       "0.4172474419950421"
      ]
     },
     "execution_count": 55,
     "metadata": {},
     "output_type": "execute_result"
    }
   ],
   "source": [
    "dataframe['Actor2_rate'].corr(dataframe['Box_office'])"
   ]
  },
  {
   "cell_type": "code",
   "execution_count": 58,
   "metadata": {},
   "outputs": [
    {
     "data": {
      "text/plain": [
       "Index(['Unnamed: 0', 'title', 'Budget', 'Box_office', 'actor1', 'actor2',\n",
       "       'Director', 'Release_year', 'Profit', 'Category', 'imdb', 'metascore',\n",
       "       'rotten_tomatoes', 'Actor1_rate', 'Actor2_rate', 'Director_rate',\n",
       "       'cat'],\n",
       "      dtype='object')"
      ]
     },
     "execution_count": 58,
     "metadata": {},
     "output_type": "execute_result"
    }
   ],
   "source": [
    "dataframe.columns"
   ]
  },
  {
   "cell_type": "code",
   "execution_count": 59,
   "metadata": {},
   "outputs": [
    {
     "data": {
      "text/html": [
       "<div>\n",
       "<style scoped>\n",
       "    .dataframe tbody tr th:only-of-type {\n",
       "        vertical-align: middle;\n",
       "    }\n",
       "\n",
       "    .dataframe tbody tr th {\n",
       "        vertical-align: top;\n",
       "    }\n",
       "\n",
       "    .dataframe thead th {\n",
       "        text-align: right;\n",
       "    }\n",
       "</style>\n",
       "<table border=\"1\" class=\"dataframe\">\n",
       "  <thead>\n",
       "    <tr style=\"text-align: right;\">\n",
       "      <th></th>\n",
       "      <th>imdb</th>\n",
       "      <th>metascore</th>\n",
       "      <th>rotten_tomatoes</th>\n",
       "      <th>Actor1_rate</th>\n",
       "      <th>Actor2_rate</th>\n",
       "      <th>Director_rate</th>\n",
       "      <th>Box_office</th>\n",
       "    </tr>\n",
       "  </thead>\n",
       "  <tbody>\n",
       "    <tr>\n",
       "      <th>imdb</th>\n",
       "      <td>1.000000</td>\n",
       "      <td>0.725377</td>\n",
       "      <td>0.758367</td>\n",
       "      <td>0.264665</td>\n",
       "      <td>0.264880</td>\n",
       "      <td>0.289634</td>\n",
       "      <td>0.387510</td>\n",
       "    </tr>\n",
       "    <tr>\n",
       "      <th>metascore</th>\n",
       "      <td>0.725377</td>\n",
       "      <td>1.000000</td>\n",
       "      <td>0.820613</td>\n",
       "      <td>0.334801</td>\n",
       "      <td>0.327023</td>\n",
       "      <td>0.317799</td>\n",
       "      <td>0.352226</td>\n",
       "    </tr>\n",
       "    <tr>\n",
       "      <th>rotten_tomatoes</th>\n",
       "      <td>0.758367</td>\n",
       "      <td>0.820613</td>\n",
       "      <td>1.000000</td>\n",
       "      <td>0.255513</td>\n",
       "      <td>0.271961</td>\n",
       "      <td>0.240045</td>\n",
       "      <td>0.273736</td>\n",
       "    </tr>\n",
       "    <tr>\n",
       "      <th>Actor1_rate</th>\n",
       "      <td>0.264665</td>\n",
       "      <td>0.334801</td>\n",
       "      <td>0.255513</td>\n",
       "      <td>1.000000</td>\n",
       "      <td>0.902596</td>\n",
       "      <td>0.780671</td>\n",
       "      <td>0.428428</td>\n",
       "    </tr>\n",
       "    <tr>\n",
       "      <th>Actor2_rate</th>\n",
       "      <td>0.264880</td>\n",
       "      <td>0.327023</td>\n",
       "      <td>0.271961</td>\n",
       "      <td>0.902596</td>\n",
       "      <td>1.000000</td>\n",
       "      <td>0.785954</td>\n",
       "      <td>0.417247</td>\n",
       "    </tr>\n",
       "    <tr>\n",
       "      <th>Director_rate</th>\n",
       "      <td>0.289634</td>\n",
       "      <td>0.317799</td>\n",
       "      <td>0.240045</td>\n",
       "      <td>0.780671</td>\n",
       "      <td>0.785954</td>\n",
       "      <td>1.000000</td>\n",
       "      <td>0.420539</td>\n",
       "    </tr>\n",
       "    <tr>\n",
       "      <th>Box_office</th>\n",
       "      <td>0.387510</td>\n",
       "      <td>0.352226</td>\n",
       "      <td>0.273736</td>\n",
       "      <td>0.428428</td>\n",
       "      <td>0.417247</td>\n",
       "      <td>0.420539</td>\n",
       "      <td>1.000000</td>\n",
       "    </tr>\n",
       "  </tbody>\n",
       "</table>\n",
       "</div>"
      ],
      "text/plain": [
       "                     imdb  metascore  rotten_tomatoes  Actor1_rate  \\\n",
       "imdb             1.000000   0.725377         0.758367     0.264665   \n",
       "metascore        0.725377   1.000000         0.820613     0.334801   \n",
       "rotten_tomatoes  0.758367   0.820613         1.000000     0.255513   \n",
       "Actor1_rate      0.264665   0.334801         0.255513     1.000000   \n",
       "Actor2_rate      0.264880   0.327023         0.271961     0.902596   \n",
       "Director_rate    0.289634   0.317799         0.240045     0.780671   \n",
       "Box_office       0.387510   0.352226         0.273736     0.428428   \n",
       "\n",
       "                 Actor2_rate  Director_rate  Box_office  \n",
       "imdb                0.264880       0.289634    0.387510  \n",
       "metascore           0.327023       0.317799    0.352226  \n",
       "rotten_tomatoes     0.271961       0.240045    0.273736  \n",
       "Actor1_rate         0.902596       0.780671    0.428428  \n",
       "Actor2_rate         1.000000       0.785954    0.417247  \n",
       "Director_rate       0.785954       1.000000    0.420539  \n",
       "Box_office          0.417247       0.420539    1.000000  "
      ]
     },
     "execution_count": 59,
     "metadata": {},
     "output_type": "execute_result"
    }
   ],
   "source": [
    "data = dataframe[['imdb', 'metascore', 'rotten_tomatoes', 'Actor1_rate', 'Actor2_rate', 'Director_rate', 'Box_office']]\n",
    "data.corr()"
   ]
  },
  {
   "cell_type": "code",
   "execution_count": 61,
   "metadata": {},
   "outputs": [
    {
     "name": "stdout",
     "output_type": "stream",
     "text": [
      "              precision    recall  f1-score   support\n",
      "\n",
      "           0       0.96      0.96      0.96        23\n",
      "           1       0.94      1.00      0.97        17\n",
      "           2       0.92      0.85      0.88        13\n",
      "\n",
      "    accuracy                           0.94        53\n",
      "   macro avg       0.94      0.93      0.94        53\n",
      "weighted avg       0.94      0.94      0.94        53\n",
      "\n"
     ]
    }
   ],
   "source": [
    "from sklearn.metrics import classification_report\n",
    "\n",
    "print(classification_report(y_test, y_predicted))"
   ]
  },
  {
   "cell_type": "code",
   "execution_count": 80,
   "metadata": {},
   "outputs": [
    {
     "data": {
      "image/png": "[encoded data removed]",
      "text/plain": [
       "<Figure size 432x288 with 1 Axes>"
      ]
     },
     "metadata": {
      "needs_background": "light"
     },
     "output_type": "display_data"
    },
    {
     "name": "stdout",
     "output_type": "stream",
     "text": [
      "None\n"
     ]
    }
   ],
   "source": [
    "import matplotlib.pyplot as plt\n",
    "\n",
    "data.plot(kind='scatter',x='imdb',y='Box_office',color='blue')\n",
    "print(plt.show())"
   ]
  },
  {
   "cell_type": "code",
   "execution_count": 71,
   "metadata": {},
   "outputs": [
    {
     "data": {
      "text/plain": [
       "<AxesSubplot:xlabel='metascore', ylabel='Box_office'>"
      ]
     },
     "execution_count": 71,
     "metadata": {},
     "output_type": "execute_result"
    },
    {
     "data": {
      "image/png": "[encoded data removed]",
      "text/plain": [
       "<Figure size 432x288 with 1 Axes>"
      ]
     },
     "metadata": {
      "needs_background": "light"
     },
     "output_type": "display_data"
    }
   ],
   "source": [
    "data.plot(kind='scatter',x='metascore',y='Box_office',color='blue')"
   ]
  },
  {
   "cell_type": "code",
   "execution_count": 72,
   "metadata": {},
   "outputs": [
    {
     "data": {
      "text/plain": [
       "<AxesSubplot:xlabel='Actor1_rate', ylabel='Box_office'>"
      ]
     },
     "execution_count": 72,
     "metadata": {},
     "output_type": "execute_result"
    },
    {
     "data": {
      "image/png": "[encoded data removed]",
      "text/plain": [
       "<Figure size 432x288 with 1 Axes>"
      ]
     },
     "metadata": {
      "needs_background": "light"
     },
     "output_type": "display_data"
    }
   ],
   "source": [
    "data.plot(kind='scatter',x='Actor1_rate',y='Box_office',color='blue')"
   ]
  },
  {
   "cell_type": "code",
   "execution_count": 84,
   "metadata": {},
   "outputs": [
    {
     "name": "stdout",
     "output_type": "stream",
     "text": [
      "AxesSubplot(0.125,0.125;0.775x0.755)\n"
     ]
    },
    {
     "data": {
      "image/png": "[encoded data removed]",
      "text/plain": [
       "<Figure size 432x288 with 1 Axes>"
      ]
     },
     "metadata": {
      "needs_background": "light"
     },
     "output_type": "display_data"
    }
   ],
   "source": [
    "print(data.plot(kind='scatter',x='Actor2_rate',y='Box_office',color='blue'))"
   ]
  },
  {
   "cell_type": "code",
   "execution_count": 74,
   "metadata": {},
   "outputs": [
    {
     "data": {
      "text/plain": [
       "<AxesSubplot:xlabel='Director_rate', ylabel='Box_office'>"
      ]
     },
     "execution_count": 74,
     "metadata": {},
     "output_type": "execute_result"
    },
    {
     "data": {
      "image/png": "[encoded data removed]",
      "text/plain": [
       "<Figure size 432x288 with 1 Axes>"
      ]
     },
     "metadata": {
      "needs_background": "light"
     },
     "output_type": "display_data"
    }
   ],
   "source": [
    "data.plot(kind='scatter',x='Director_rate',y='Box_office',color='blue')"
   ]
  },
  {
   "cell_type": "code",
   "execution_count": 75,
   "metadata": {},
   "outputs": [
    {
     "data": {
      "text/plain": [
       "<AxesSubplot:xlabel='rotten_tomatoes', ylabel='Box_office'>"
      ]
     },
     "execution_count": 75,
     "metadata": {},
     "output_type": "execute_result"
    },
    {
     "data": {
      "image/png": "[encoded data removed]",
      "text/plain": [
       "<Figure size 432x288 with 1 Axes>"
      ]
     },
     "metadata": {
      "needs_background": "light"
     },
     "output_type": "display_data"
    }
   ],
   "source": [
    "data.plot(kind='scatter',x='rotten_tomatoes',y='Box_office',color='blue')"
   ]
  },
  {
   "cell_type": "code",
   "execution_count": null,
   "metadata": {},
   "outputs": [],
   "source": []
  }
 ],
 "metadata": {
  "kernelspec": {
   "display_name": "Python 3 (ipykernel)",
   "language": "python",
   "name": "python3"
  },
  "language_info": {
   "codemirror_mode": {
    "name": "ipython",
    "version": 3
   },
   "file_extension": ".py",
   "mimetype": "text/x-python",
   "name": "python",
   "nbconvert_exporter": "python",
   "pygments_lexer": "ipython3",
   "version": "3.8.0"
  }
 },
 "nbformat": 4,
 "nbformat_minor": 4
}
