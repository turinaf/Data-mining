{
 "cells": [
  {
   "cell_type": "markdown",
   "id": "03f3240a",
   "metadata": {},
   "source": [
    "### Labelled dataset\n",
    "Dataset processing is already done and movie category and label (Interms of integers) are added to the dataset.\n",
    "In this notebook we try to develop ANN model to predict the category of a movie based on its metascore, imdb, rotten_tomatoes and rates of directors and actors"
   ]
  },
  {
   "cell_type": "code",
   "execution_count": 1,
   "id": "ac39484b",
   "metadata": {},
   "outputs": [],
   "source": [
    "# Import necessary libraries\n",
    "import numpy as np\n",
    "import pandas as pd \n",
    "import matplotlib.pyplot as plt\n",
    "import tensorflow as tf\n",
    "from keras.models import Sequential\n",
    "from keras.layers import Dense, Dropout"
   ]
  },
  {
   "cell_type": "code",
   "execution_count": 2,
   "id": "376cf3e0",
   "metadata": {},
   "outputs": [],
   "source": [
    "# setting random seed to get similar result everytime we run the program\n",
    "np.random.seed(8)\n",
    "tf.random.set_seed(8)"
   ]
  },
  {
   "cell_type": "markdown",
   "id": "331a72fb",
   "metadata": {},
   "source": [
    "#### Reading dataset"
   ]
  },
  {
   "cell_type": "code",
   "execution_count": 3,
   "id": "f230ff66",
   "metadata": {},
   "outputs": [
    {
     "data": {
      "text/html": [
       "<div>\n",
       "<style scoped>\n",
       "    .dataframe tbody tr th:only-of-type {\n",
       "        vertical-align: middle;\n",
       "    }\n",
       "\n",
       "    .dataframe tbody tr th {\n",
       "        vertical-align: top;\n",
       "    }\n",
       "\n",
       "    .dataframe thead th {\n",
       "        text-align: right;\n",
       "    }\n",
       "</style>\n",
       "<table border=\"1\" class=\"dataframe\">\n",
       "  <thead>\n",
       "    <tr style=\"text-align: right;\">\n",
       "      <th></th>\n",
       "      <th>title</th>\n",
       "      <th>Running_time</th>\n",
       "      <th>Budget</th>\n",
       "      <th>Box_office</th>\n",
       "      <th>Release_date</th>\n",
       "      <th>imdb</th>\n",
       "      <th>metascore</th>\n",
       "      <th>rotten_tomatoes</th>\n",
       "      <th>Main_actor</th>\n",
       "      <th>Second_actor</th>\n",
       "      <th>Director</th>\n",
       "      <th>Main_actor_rate</th>\n",
       "      <th>Director_rate</th>\n",
       "      <th>Second_actor_rate</th>\n",
       "      <th>Category</th>\n",
       "      <th>cat_label</th>\n",
       "    </tr>\n",
       "  </thead>\n",
       "  <tbody>\n",
       "    <tr>\n",
       "      <th>0</th>\n",
       "      <td>Pinocchio</td>\n",
       "      <td>88.0</td>\n",
       "      <td>2600000.0</td>\n",
       "      <td>164000000.0</td>\n",
       "      <td>1940-02-07</td>\n",
       "      <td>7.4</td>\n",
       "      <td>9.9</td>\n",
       "      <td>7.3</td>\n",
       "      <td>Cliff Edwards</td>\n",
       "      <td>Dickie Jones</td>\n",
       "      <td>Ben Sharpsteen</td>\n",
       "      <td>10.0</td>\n",
       "      <td>7.50</td>\n",
       "      <td>10.000000</td>\n",
       "      <td>Blockbuster</td>\n",
       "      <td>0</td>\n",
       "    </tr>\n",
       "    <tr>\n",
       "      <th>1</th>\n",
       "      <td>Fantasia</td>\n",
       "      <td>126.0</td>\n",
       "      <td>2280000.0</td>\n",
       "      <td>83300000.0</td>\n",
       "      <td>1940-11-13</td>\n",
       "      <td>7.7</td>\n",
       "      <td>9.6</td>\n",
       "      <td>9.5</td>\n",
       "      <td>Leopold Stokowski</td>\n",
       "      <td>Deems Taylor</td>\n",
       "      <td>Samuel Armstrong</td>\n",
       "      <td>10.0</td>\n",
       "      <td>10.00</td>\n",
       "      <td>10.000000</td>\n",
       "      <td>Blockbuster</td>\n",
       "      <td>0</td>\n",
       "    </tr>\n",
       "    <tr>\n",
       "      <th>2</th>\n",
       "      <td>Dumbo</td>\n",
       "      <td>64.0</td>\n",
       "      <td>950000.0</td>\n",
       "      <td>1300000.0</td>\n",
       "      <td>1941-10-23</td>\n",
       "      <td>7.2</td>\n",
       "      <td>9.6</td>\n",
       "      <td>9.8</td>\n",
       "      <td>Edward Brophy</td>\n",
       "      <td>Herman Bing</td>\n",
       "      <td>Ben Sharpsteen</td>\n",
       "      <td>5.0</td>\n",
       "      <td>7.50</td>\n",
       "      <td>5.000000</td>\n",
       "      <td>Flop</td>\n",
       "      <td>1</td>\n",
       "    </tr>\n",
       "    <tr>\n",
       "      <th>3</th>\n",
       "      <td>Bambi</td>\n",
       "      <td>70.0</td>\n",
       "      <td>858000.0</td>\n",
       "      <td>267400000.0</td>\n",
       "      <td>1942-08-09</td>\n",
       "      <td>7.3</td>\n",
       "      <td>9.1</td>\n",
       "      <td>9.0</td>\n",
       "      <td>see below</td>\n",
       "      <td>missing</td>\n",
       "      <td>Supervising director</td>\n",
       "      <td>10.0</td>\n",
       "      <td>10.00</td>\n",
       "      <td>8.958333</td>\n",
       "      <td>Blockbuster</td>\n",
       "      <td>0</td>\n",
       "    </tr>\n",
       "    <tr>\n",
       "      <th>4</th>\n",
       "      <td>Make Mine Music</td>\n",
       "      <td>75.0</td>\n",
       "      <td>1350000.0</td>\n",
       "      <td>3275000.0</td>\n",
       "      <td>1946-04-20</td>\n",
       "      <td>6.3</td>\n",
       "      <td>6.0</td>\n",
       "      <td>7.0</td>\n",
       "      <td>Nelson Eddy</td>\n",
       "      <td>missing</td>\n",
       "      <td>Jack Kinney</td>\n",
       "      <td>7.5</td>\n",
       "      <td>6.25</td>\n",
       "      <td>8.958333</td>\n",
       "      <td>Hit</td>\n",
       "      <td>2</td>\n",
       "    </tr>\n",
       "  </tbody>\n",
       "</table>\n",
       "</div>"
      ],
      "text/plain": [
       "             title  Running_time     Budget   Box_office Release_date  imdb  \\\n",
       "0        Pinocchio          88.0  2600000.0  164000000.0   1940-02-07   7.4   \n",
       "1         Fantasia         126.0  2280000.0   83300000.0   1940-11-13   7.7   \n",
       "2            Dumbo          64.0   950000.0    1300000.0   1941-10-23   7.2   \n",
       "3            Bambi          70.0   858000.0  267400000.0   1942-08-09   7.3   \n",
       "4  Make Mine Music          75.0  1350000.0    3275000.0   1946-04-20   6.3   \n",
       "\n",
       "   metascore  rotten_tomatoes         Main_actor  Second_actor  \\\n",
       "0        9.9              7.3      Cliff Edwards  Dickie Jones   \n",
       "1        9.6              9.5  Leopold Stokowski  Deems Taylor   \n",
       "2        9.6              9.8      Edward Brophy   Herman Bing   \n",
       "3        9.1              9.0          see below       missing   \n",
       "4        6.0              7.0        Nelson Eddy       missing   \n",
       "\n",
       "               Director  Main_actor_rate  Director_rate  Second_actor_rate  \\\n",
       "0        Ben Sharpsteen             10.0           7.50          10.000000   \n",
       "1      Samuel Armstrong             10.0          10.00          10.000000   \n",
       "2        Ben Sharpsteen              5.0           7.50           5.000000   \n",
       "3  Supervising director             10.0          10.00           8.958333   \n",
       "4           Jack Kinney              7.5           6.25           8.958333   \n",
       "\n",
       "      Category  cat_label  \n",
       "0  Blockbuster          0  \n",
       "1  Blockbuster          0  \n",
       "2         Flop          1  \n",
       "3  Blockbuster          0  \n",
       "4          Hit          2  "
      ]
     },
     "execution_count": 3,
     "metadata": {},
     "output_type": "execute_result"
    }
   ],
   "source": [
    "dataset = pd.read_csv('labelled_movie_dataset.csv')\n",
    "dataset.head()"
   ]
  },
  {
   "cell_type": "markdown",
   "id": "accc6b52",
   "metadata": {},
   "source": [
    "### Extracting features and Labels from the dataset"
   ]
  },
  {
   "cell_type": "code",
   "execution_count": 4,
   "id": "1b572564",
   "metadata": {},
   "outputs": [
    {
     "data": {
      "text/plain": [
       "(223, 6)"
      ]
     },
     "execution_count": 4,
     "metadata": {},
     "output_type": "execute_result"
    }
   ],
   "source": [
    "#Features\n",
    "features = dataset[['imdb', 'metascore', 'rotten_tomatoes', 'Main_actor_rate', 'Second_actor_rate', 'Director_rate']]\n",
    "features.head()\n",
    "features.shape"
   ]
  },
  {
   "cell_type": "code",
   "execution_count": 5,
   "id": "85521b40",
   "metadata": {},
   "outputs": [
    {
     "data": {
      "text/plain": [
       "(223,)"
      ]
     },
     "execution_count": 5,
     "metadata": {},
     "output_type": "execute_result"
    }
   ],
   "source": [
    "#Labels\n",
    "labels = dataset['cat_label']\n",
    "labels.shape"
   ]
  },
  {
   "cell_type": "markdown",
   "id": "25bfdb36",
   "metadata": {},
   "source": [
    "## Splitting features & Labels into training and test data"
   ]
  },
  {
   "cell_type": "code",
   "execution_count": 6,
   "id": "624449d7",
   "metadata": {},
   "outputs": [],
   "source": [
    "from sklearn.model_selection import train_test_split\n",
    "x_train, x_test, y_train, y_test = train_test_split(features, labels, test_size=0.2, random_state=80)\n",
    "\n",
    "# test_size=0.2 20% of iris dataset will be used as test data and 80% will be used as training data."
   ]
  },
  {
   "cell_type": "code",
   "execution_count": 7,
   "id": "235c7e80",
   "metadata": {},
   "outputs": [
    {
     "name": "stdout",
     "output_type": "stream",
     "text": [
      "Training data shape: (178, 6)\n",
      "Training data label: (178,)\n",
      "Test data shape: (45, 6)\n",
      "Test data label: (45,)\n"
     ]
    }
   ],
   "source": [
    "# Splitted data shape\n",
    "\n",
    "print(\"Training data shape:\", x_train.shape)\n",
    "print(\"Training data label:\", y_train.shape)\n",
    "print(\"Test data shape:\", x_test.shape)\n",
    "print(\"Test data label:\", y_test.shape)"
   ]
  },
  {
   "cell_type": "markdown",
   "id": "0295ef28",
   "metadata": {},
   "source": [
    "### Data Standardization"
   ]
  },
  {
   "cell_type": "code",
   "execution_count": 8,
   "id": "878def13",
   "metadata": {},
   "outputs": [
    {
     "data": {
      "text/plain": [
       "6"
      ]
     },
     "execution_count": 8,
     "metadata": {},
     "output_type": "execute_result"
    }
   ],
   "source": [
    "from sklearn.preprocessing import StandardScaler\n",
    "\n",
    "scaler = StandardScaler()\n",
    "x_train = scaler.fit_transform(x_train)\n",
    "x_test = scaler.transform(x_test)\n",
    "x_train.shape[1]"
   ]
  },
  {
   "cell_type": "markdown",
   "id": "b7bd99ee",
   "metadata": {},
   "source": [
    "### Building the model"
   ]
  },
  {
   "cell_type": "code",
   "execution_count": 9,
   "id": "da716465",
   "metadata": {},
   "outputs": [],
   "source": [
    "# Building neural network Model\n",
    "\n",
    "model = Sequential()\n",
    "model.add(Dense(120, activation='relu', input_shape=(x_train.shape[1], )))\n",
    "model.add(Dense(3, activation='softmax'))"
   ]
  },
  {
   "cell_type": "code",
   "execution_count": 10,
   "id": "b7c49e64",
   "metadata": {},
   "outputs": [
    {
     "name": "stdout",
     "output_type": "stream",
     "text": [
      "Model: \"sequential\"\n",
      "_________________________________________________________________\n",
      "Layer (type)                 Output Shape              Param #   \n",
      "=================================================================\n",
      "dense (Dense)                (None, 120)               840       \n",
      "_________________________________________________________________\n",
      "dense_1 (Dense)              (None, 3)                 363       \n",
      "=================================================================\n",
      "Total params: 1,203\n",
      "Trainable params: 1,203\n",
      "Non-trainable params: 0\n",
      "_________________________________________________________________\n"
     ]
    }
   ],
   "source": [
    "model.summary()"
   ]
  },
  {
   "cell_type": "markdown",
   "id": "d3af8128",
   "metadata": {},
   "source": [
    "### Compiling and Training model"
   ]
  },
  {
   "cell_type": "code",
   "execution_count": 11,
   "id": "27091b6b",
   "metadata": {},
   "outputs": [],
   "source": [
    "# Compile model\n",
    "# loss sparse_categorial_crossentropy because we have multiple class of labels [0, 1, and 2]\n",
    "model.compile(optimizer=\"adam\", loss=\"sparse_categorical_crossentropy\",metrics=[\"accuracy\"]) "
   ]
  },
  {
   "cell_type": "code",
   "execution_count": 12,
   "id": "883995a4",
   "metadata": {},
   "outputs": [
    {
     "name": "stdout",
     "output_type": "stream",
     "text": [
      "Epoch 1/120\n",
      "6/6 [==============================] - 0s 22ms/step - loss: 1.1216 - accuracy: 0.3820 - val_loss: 1.0770 - val_accuracy: 0.4444\n",
      "Epoch 2/120\n",
      "6/6 [==============================] - 0s 4ms/step - loss: 0.9778 - accuracy: 0.4326 - val_loss: 0.9931 - val_accuracy: 0.4222\n",
      "Epoch 3/120\n",
      "6/6 [==============================] - 0s 3ms/step - loss: 0.8629 - accuracy: 0.5787 - val_loss: 0.9203 - val_accuracy: 0.6444\n",
      "Epoch 4/120\n",
      "6/6 [==============================] - 0s 3ms/step - loss: 0.7740 - accuracy: 0.7022 - val_loss: 0.8559 - val_accuracy: 0.5778\n",
      "Epoch 5/120\n",
      "6/6 [==============================] - 0s 3ms/step - loss: 0.6910 - accuracy: 0.7360 - val_loss: 0.8023 - val_accuracy: 0.6000\n",
      "Epoch 6/120\n",
      "6/6 [==============================] - 0s 4ms/step - loss: 0.6259 - accuracy: 0.7584 - val_loss: 0.7552 - val_accuracy: 0.6000\n",
      "Epoch 7/120\n",
      "6/6 [==============================] - 0s 4ms/step - loss: 0.5752 - accuracy: 0.7640 - val_loss: 0.7141 - val_accuracy: 0.6444\n",
      "Epoch 8/120\n",
      "6/6 [==============================] - 0s 3ms/step - loss: 0.5303 - accuracy: 0.7809 - val_loss: 0.6786 - val_accuracy: 0.6889\n",
      "Epoch 9/120\n",
      "6/6 [==============================] - 0s 3ms/step - loss: 0.4928 - accuracy: 0.8090 - val_loss: 0.6487 - val_accuracy: 0.6889\n",
      "Epoch 10/120\n",
      "6/6 [==============================] - 0s 5ms/step - loss: 0.4629 - accuracy: 0.8258 - val_loss: 0.6233 - val_accuracy: 0.7111\n",
      "Epoch 11/120\n",
      "6/6 [==============================] - 0s 4ms/step - loss: 0.4344 - accuracy: 0.8371 - val_loss: 0.6009 - val_accuracy: 0.7111\n",
      "Epoch 12/120\n",
      "6/6 [==============================] - 0s 4ms/step - loss: 0.4109 - accuracy: 0.8539 - val_loss: 0.5806 - val_accuracy: 0.7111\n",
      "Epoch 13/120\n",
      "6/6 [==============================] - 0s 3ms/step - loss: 0.3890 - accuracy: 0.8652 - val_loss: 0.5626 - val_accuracy: 0.7111\n",
      "Epoch 14/120\n",
      "6/6 [==============================] - 0s 4ms/step - loss: 0.3703 - accuracy: 0.8876 - val_loss: 0.5451 - val_accuracy: 0.7333\n",
      "Epoch 15/120\n",
      "6/6 [==============================] - 0s 3ms/step - loss: 0.3529 - accuracy: 0.9213 - val_loss: 0.5302 - val_accuracy: 0.7333\n",
      "Epoch 16/120\n",
      "6/6 [==============================] - 0s 4ms/step - loss: 0.3366 - accuracy: 0.9213 - val_loss: 0.5159 - val_accuracy: 0.7778\n",
      "Epoch 17/120\n",
      "6/6 [==============================] - 0s 3ms/step - loss: 0.3213 - accuracy: 0.9270 - val_loss: 0.5027 - val_accuracy: 0.8000\n",
      "Epoch 18/120\n",
      "6/6 [==============================] - 0s 4ms/step - loss: 0.3076 - accuracy: 0.9326 - val_loss: 0.4900 - val_accuracy: 0.8000\n",
      "Epoch 19/120\n",
      "6/6 [==============================] - 0s 3ms/step - loss: 0.2939 - accuracy: 0.9382 - val_loss: 0.4789 - val_accuracy: 0.8222\n",
      "Epoch 20/120\n",
      "6/6 [==============================] - 0s 4ms/step - loss: 0.2816 - accuracy: 0.9438 - val_loss: 0.4675 - val_accuracy: 0.8222\n",
      "Epoch 21/120\n",
      "6/6 [==============================] - 0s 4ms/step - loss: 0.2697 - accuracy: 0.9494 - val_loss: 0.4576 - val_accuracy: 0.8444\n",
      "Epoch 22/120\n",
      "6/6 [==============================] - 0s 4ms/step - loss: 0.2592 - accuracy: 0.9607 - val_loss: 0.4476 - val_accuracy: 0.8444\n",
      "Epoch 23/120\n",
      "6/6 [==============================] - 0s 4ms/step - loss: 0.2482 - accuracy: 0.9607 - val_loss: 0.4380 - val_accuracy: 0.8444\n",
      "Epoch 24/120\n",
      "6/6 [==============================] - 0s 4ms/step - loss: 0.2378 - accuracy: 0.9663 - val_loss: 0.4292 - val_accuracy: 0.8444\n",
      "Epoch 25/120\n",
      "6/6 [==============================] - 0s 4ms/step - loss: 0.2291 - accuracy: 0.9663 - val_loss: 0.4187 - val_accuracy: 0.8444\n",
      "Epoch 26/120\n",
      "6/6 [==============================] - 0s 3ms/step - loss: 0.2201 - accuracy: 0.9663 - val_loss: 0.4101 - val_accuracy: 0.8444\n",
      "Epoch 27/120\n",
      "6/6 [==============================] - 0s 4ms/step - loss: 0.2114 - accuracy: 0.9663 - val_loss: 0.4025 - val_accuracy: 0.8444\n",
      "Epoch 28/120\n",
      "6/6 [==============================] - 0s 4ms/step - loss: 0.2040 - accuracy: 0.9663 - val_loss: 0.3949 - val_accuracy: 0.8444\n",
      "Epoch 29/120\n",
      "6/6 [==============================] - 0s 4ms/step - loss: 0.1966 - accuracy: 0.9831 - val_loss: 0.3900 - val_accuracy: 0.8667\n",
      "Epoch 30/120\n",
      "6/6 [==============================] - 0s 3ms/step - loss: 0.1895 - accuracy: 0.9831 - val_loss: 0.3845 - val_accuracy: 0.8667\n",
      "Epoch 31/120\n",
      "6/6 [==============================] - 0s 3ms/step - loss: 0.1827 - accuracy: 0.9831 - val_loss: 0.3796 - val_accuracy: 0.8889\n",
      "Epoch 32/120\n",
      "6/6 [==============================] - 0s 3ms/step - loss: 0.1772 - accuracy: 0.9831 - val_loss: 0.3753 - val_accuracy: 0.8889\n",
      "Epoch 33/120\n",
      "6/6 [==============================] - 0s 4ms/step - loss: 0.1707 - accuracy: 0.9831 - val_loss: 0.3698 - val_accuracy: 0.8889\n",
      "Epoch 34/120\n",
      "6/6 [==============================] - 0s 3ms/step - loss: 0.1655 - accuracy: 0.9831 - val_loss: 0.3641 - val_accuracy: 0.9111\n",
      "Epoch 35/120\n",
      "6/6 [==============================] - 0s 4ms/step - loss: 0.1603 - accuracy: 0.9831 - val_loss: 0.3592 - val_accuracy: 0.9111\n",
      "Epoch 36/120\n",
      "6/6 [==============================] - 0s 3ms/step - loss: 0.1552 - accuracy: 0.9831 - val_loss: 0.3566 - val_accuracy: 0.9111\n",
      "Epoch 37/120\n",
      "6/6 [==============================] - 0s 3ms/step - loss: 0.1502 - accuracy: 0.9831 - val_loss: 0.3507 - val_accuracy: 0.9111\n",
      "Epoch 38/120\n",
      "6/6 [==============================] - 0s 4ms/step - loss: 0.1459 - accuracy: 0.9831 - val_loss: 0.3454 - val_accuracy: 0.9111\n",
      "Epoch 39/120\n",
      "6/6 [==============================] - 0s 3ms/step - loss: 0.1418 - accuracy: 0.9831 - val_loss: 0.3404 - val_accuracy: 0.9111\n",
      "Epoch 40/120\n",
      "6/6 [==============================] - 0s 3ms/step - loss: 0.1378 - accuracy: 0.9831 - val_loss: 0.3381 - val_accuracy: 0.9111\n",
      "Epoch 41/120\n",
      "6/6 [==============================] - 0s 4ms/step - loss: 0.1337 - accuracy: 0.9831 - val_loss: 0.3348 - val_accuracy: 0.9111\n",
      "Epoch 42/120\n",
      "6/6 [==============================] - 0s 3ms/step - loss: 0.1303 - accuracy: 0.9831 - val_loss: 0.3316 - val_accuracy: 0.9111\n",
      "Epoch 43/120\n",
      "6/6 [==============================] - 0s 3ms/step - loss: 0.1267 - accuracy: 0.9831 - val_loss: 0.3306 - val_accuracy: 0.9111\n",
      "Epoch 44/120\n",
      "6/6 [==============================] - 0s 4ms/step - loss: 0.1236 - accuracy: 0.9831 - val_loss: 0.3296 - val_accuracy: 0.9111\n",
      "Epoch 45/120\n",
      "6/6 [==============================] - 0s 4ms/step - loss: 0.1204 - accuracy: 0.9831 - val_loss: 0.3274 - val_accuracy: 0.9111\n",
      "Epoch 46/120\n",
      "6/6 [==============================] - 0s 3ms/step - loss: 0.1176 - accuracy: 0.9831 - val_loss: 0.3248 - val_accuracy: 0.9111\n",
      "Epoch 47/120\n",
      "6/6 [==============================] - 0s 3ms/step - loss: 0.1147 - accuracy: 0.9831 - val_loss: 0.3215 - val_accuracy: 0.9111\n",
      "Epoch 48/120\n",
      "6/6 [==============================] - 0s 3ms/step - loss: 0.1121 - accuracy: 0.9831 - val_loss: 0.3191 - val_accuracy: 0.9111\n",
      "Epoch 49/120\n",
      "6/6 [==============================] - 0s 4ms/step - loss: 0.1095 - accuracy: 0.9831 - val_loss: 0.3184 - val_accuracy: 0.9111\n",
      "Epoch 50/120\n",
      "6/6 [==============================] - 0s 4ms/step - loss: 0.1071 - accuracy: 0.9831 - val_loss: 0.3165 - val_accuracy: 0.9111\n",
      "Epoch 51/120\n",
      "6/6 [==============================] - 0s 3ms/step - loss: 0.1048 - accuracy: 0.9831 - val_loss: 0.3155 - val_accuracy: 0.9111\n",
      "Epoch 52/120\n",
      "6/6 [==============================] - 0s 3ms/step - loss: 0.1024 - accuracy: 0.9775 - val_loss: 0.3157 - val_accuracy: 0.9111\n",
      "Epoch 53/120\n",
      "6/6 [==============================] - 0s 3ms/step - loss: 0.1003 - accuracy: 0.9775 - val_loss: 0.3150 - val_accuracy: 0.9111\n",
      "Epoch 54/120\n",
      "6/6 [==============================] - 0s 4ms/step - loss: 0.0981 - accuracy: 0.9775 - val_loss: 0.3125 - val_accuracy: 0.9111\n",
      "Epoch 55/120\n",
      "6/6 [==============================] - 0s 3ms/step - loss: 0.0961 - accuracy: 0.9775 - val_loss: 0.3108 - val_accuracy: 0.9111\n",
      "Epoch 56/120\n",
      "6/6 [==============================] - 0s 3ms/step - loss: 0.0943 - accuracy: 0.9775 - val_loss: 0.3100 - val_accuracy: 0.9111\n",
      "Epoch 57/120\n",
      "6/6 [==============================] - 0s 3ms/step - loss: 0.0923 - accuracy: 0.9775 - val_loss: 0.3072 - val_accuracy: 0.9111\n",
      "Epoch 58/120\n",
      "6/6 [==============================] - 0s 3ms/step - loss: 0.0905 - accuracy: 0.9775 - val_loss: 0.3063 - val_accuracy: 0.9111\n",
      "Epoch 59/120\n",
      "6/6 [==============================] - 0s 3ms/step - loss: 0.0887 - accuracy: 0.9775 - val_loss: 0.3048 - val_accuracy: 0.9111\n",
      "Epoch 60/120\n",
      "6/6 [==============================] - 0s 4ms/step - loss: 0.0872 - accuracy: 0.9775 - val_loss: 0.3035 - val_accuracy: 0.9111\n",
      "Epoch 61/120\n",
      "6/6 [==============================] - 0s 4ms/step - loss: 0.0855 - accuracy: 0.9775 - val_loss: 0.3016 - val_accuracy: 0.9111\n",
      "Epoch 62/120\n",
      "6/6 [==============================] - 0s 3ms/step - loss: 0.0838 - accuracy: 0.9775 - val_loss: 0.3020 - val_accuracy: 0.9111\n",
      "Epoch 63/120\n",
      "6/6 [==============================] - 0s 4ms/step - loss: 0.0823 - accuracy: 0.9775 - val_loss: 0.3018 - val_accuracy: 0.9111\n",
      "Epoch 64/120\n",
      "6/6 [==============================] - 0s 3ms/step - loss: 0.0809 - accuracy: 0.9775 - val_loss: 0.2999 - val_accuracy: 0.9111\n",
      "Epoch 65/120\n",
      "6/6 [==============================] - 0s 3ms/step - loss: 0.0796 - accuracy: 0.9775 - val_loss: 0.3000 - val_accuracy: 0.9111\n",
      "Epoch 66/120\n",
      "6/6 [==============================] - 0s 3ms/step - loss: 0.0782 - accuracy: 0.9775 - val_loss: 0.2999 - val_accuracy: 0.9111\n",
      "Epoch 67/120\n",
      "6/6 [==============================] - 0s 3ms/step - loss: 0.0769 - accuracy: 0.9775 - val_loss: 0.2991 - val_accuracy: 0.9111\n",
      "Epoch 68/120\n",
      "6/6 [==============================] - 0s 3ms/step - loss: 0.0756 - accuracy: 0.9775 - val_loss: 0.2989 - val_accuracy: 0.9111\n",
      "Epoch 69/120\n",
      "6/6 [==============================] - 0s 3ms/step - loss: 0.0742 - accuracy: 0.9775 - val_loss: 0.2996 - val_accuracy: 0.9111\n",
      "Epoch 70/120\n",
      "6/6 [==============================] - 0s 4ms/step - loss: 0.0733 - accuracy: 0.9775 - val_loss: 0.2990 - val_accuracy: 0.9111\n",
      "Epoch 71/120\n",
      "6/6 [==============================] - 0s 4ms/step - loss: 0.0723 - accuracy: 0.9775 - val_loss: 0.2996 - val_accuracy: 0.9111\n",
      "Epoch 72/120\n",
      "6/6 [==============================] - 0s 3ms/step - loss: 0.0711 - accuracy: 0.9775 - val_loss: 0.2943 - val_accuracy: 0.9111\n",
      "Epoch 73/120\n",
      "6/6 [==============================] - 0s 3ms/step - loss: 0.0699 - accuracy: 0.9831 - val_loss: 0.2927 - val_accuracy: 0.9111\n",
      "Epoch 74/120\n",
      "6/6 [==============================] - 0s 3ms/step - loss: 0.0688 - accuracy: 0.9831 - val_loss: 0.2932 - val_accuracy: 0.9111\n",
      "Epoch 75/120\n",
      "6/6 [==============================] - 0s 3ms/step - loss: 0.0676 - accuracy: 0.9831 - val_loss: 0.2935 - val_accuracy: 0.9111\n",
      "Epoch 76/120\n",
      "6/6 [==============================] - 0s 3ms/step - loss: 0.0668 - accuracy: 0.9775 - val_loss: 0.2951 - val_accuracy: 0.9111\n",
      "Epoch 77/120\n",
      "6/6 [==============================] - 0s 3ms/step - loss: 0.0657 - accuracy: 0.9775 - val_loss: 0.2952 - val_accuracy: 0.9111\n",
      "Epoch 78/120\n",
      "6/6 [==============================] - 0s 3ms/step - loss: 0.0649 - accuracy: 0.9775 - val_loss: 0.2966 - val_accuracy: 0.9111\n",
      "Epoch 79/120\n",
      "6/6 [==============================] - 0s 3ms/step - loss: 0.0640 - accuracy: 0.9775 - val_loss: 0.2969 - val_accuracy: 0.9111\n",
      "Epoch 80/120\n",
      "6/6 [==============================] - 0s 3ms/step - loss: 0.0630 - accuracy: 0.9775 - val_loss: 0.2976 - val_accuracy: 0.9111\n",
      "Epoch 81/120\n",
      "6/6 [==============================] - 0s 3ms/step - loss: 0.0624 - accuracy: 0.9775 - val_loss: 0.2984 - val_accuracy: 0.9111\n",
      "Epoch 82/120\n",
      "6/6 [==============================] - 0s 4ms/step - loss: 0.0614 - accuracy: 0.9775 - val_loss: 0.2958 - val_accuracy: 0.9111\n",
      "Epoch 83/120\n",
      "6/6 [==============================] - 0s 4ms/step - loss: 0.0606 - accuracy: 0.9888 - val_loss: 0.2943 - val_accuracy: 0.8889\n",
      "Epoch 84/120\n",
      "6/6 [==============================] - 0s 4ms/step - loss: 0.0600 - accuracy: 0.9888 - val_loss: 0.2939 - val_accuracy: 0.8889\n",
      "Epoch 85/120\n",
      "6/6 [==============================] - 0s 3ms/step - loss: 0.0596 - accuracy: 0.9888 - val_loss: 0.2967 - val_accuracy: 0.8889\n",
      "Epoch 86/120\n",
      "6/6 [==============================] - 0s 3ms/step - loss: 0.0584 - accuracy: 0.9888 - val_loss: 0.2957 - val_accuracy: 0.8889\n",
      "Epoch 87/120\n",
      "6/6 [==============================] - 0s 4ms/step - loss: 0.0576 - accuracy: 0.9831 - val_loss: 0.2952 - val_accuracy: 0.8889\n",
      "Epoch 88/120\n",
      "6/6 [==============================] - 0s 4ms/step - loss: 0.0571 - accuracy: 0.9831 - val_loss: 0.2942 - val_accuracy: 0.8889\n",
      "Epoch 89/120\n",
      "6/6 [==============================] - 0s 4ms/step - loss: 0.0563 - accuracy: 0.9888 - val_loss: 0.2899 - val_accuracy: 0.8889\n",
      "Epoch 90/120\n",
      "6/6 [==============================] - 0s 3ms/step - loss: 0.0557 - accuracy: 0.9888 - val_loss: 0.2881 - val_accuracy: 0.8889\n",
      "Epoch 91/120\n",
      "6/6 [==============================] - 0s 3ms/step - loss: 0.0551 - accuracy: 0.9944 - val_loss: 0.2896 - val_accuracy: 0.8889\n",
      "Epoch 92/120\n",
      "6/6 [==============================] - 0s 5ms/step - loss: 0.0544 - accuracy: 0.9888 - val_loss: 0.2903 - val_accuracy: 0.8889\n",
      "Epoch 93/120\n",
      "6/6 [==============================] - 0s 4ms/step - loss: 0.0537 - accuracy: 0.9888 - val_loss: 0.2915 - val_accuracy: 0.8889\n",
      "Epoch 94/120\n",
      "6/6 [==============================] - 0s 3ms/step - loss: 0.0531 - accuracy: 0.9888 - val_loss: 0.2927 - val_accuracy: 0.8889\n",
      "Epoch 95/120\n",
      "6/6 [==============================] - 0s 4ms/step - loss: 0.0525 - accuracy: 0.9888 - val_loss: 0.2928 - val_accuracy: 0.8889\n",
      "Epoch 96/120\n",
      "6/6 [==============================] - 0s 3ms/step - loss: 0.0517 - accuracy: 0.9888 - val_loss: 0.2940 - val_accuracy: 0.8889\n",
      "Epoch 97/120\n",
      "6/6 [==============================] - 0s 3ms/step - loss: 0.0515 - accuracy: 0.9888 - val_loss: 0.2976 - val_accuracy: 0.8889\n",
      "Epoch 98/120\n",
      "6/6 [==============================] - 0s 3ms/step - loss: 0.0508 - accuracy: 0.9888 - val_loss: 0.2987 - val_accuracy: 0.8889\n",
      "Epoch 99/120\n",
      "6/6 [==============================] - 0s 3ms/step - loss: 0.0504 - accuracy: 0.9888 - val_loss: 0.2965 - val_accuracy: 0.8889\n",
      "Epoch 100/120\n",
      "6/6 [==============================] - 0s 3ms/step - loss: 0.0496 - accuracy: 0.9888 - val_loss: 0.2965 - val_accuracy: 0.8889\n",
      "Epoch 101/120\n",
      "6/6 [==============================] - 0s 3ms/step - loss: 0.0493 - accuracy: 0.9888 - val_loss: 0.2974 - val_accuracy: 0.8889\n",
      "Epoch 102/120\n",
      "6/6 [==============================] - 0s 4ms/step - loss: 0.0486 - accuracy: 0.9888 - val_loss: 0.2989 - val_accuracy: 0.8889\n",
      "Epoch 103/120\n",
      "6/6 [==============================] - 0s 4ms/step - loss: 0.0485 - accuracy: 0.9888 - val_loss: 0.3004 - val_accuracy: 0.8889\n",
      "Epoch 104/120\n",
      "6/6 [==============================] - 0s 4ms/step - loss: 0.0476 - accuracy: 0.9888 - val_loss: 0.2984 - val_accuracy: 0.8889\n",
      "Epoch 105/120\n",
      "6/6 [==============================] - 0s 3ms/step - loss: 0.0471 - accuracy: 0.9888 - val_loss: 0.2981 - val_accuracy: 0.8889\n",
      "Epoch 106/120\n",
      "6/6 [==============================] - 0s 3ms/step - loss: 0.0467 - accuracy: 0.9944 - val_loss: 0.2960 - val_accuracy: 0.8889\n",
      "Epoch 107/120\n",
      "6/6 [==============================] - 0s 3ms/step - loss: 0.0464 - accuracy: 0.9944 - val_loss: 0.2935 - val_accuracy: 0.8889\n",
      "Epoch 108/120\n",
      "6/6 [==============================] - 0s 3ms/step - loss: 0.0459 - accuracy: 0.9944 - val_loss: 0.2927 - val_accuracy: 0.8889\n",
      "Epoch 109/120\n",
      "6/6 [==============================] - 0s 4ms/step - loss: 0.0455 - accuracy: 0.9944 - val_loss: 0.2949 - val_accuracy: 0.8889\n",
      "Epoch 110/120\n",
      "6/6 [==============================] - 0s 4ms/step - loss: 0.0451 - accuracy: 0.9944 - val_loss: 0.2943 - val_accuracy: 0.8889\n",
      "Epoch 111/120\n",
      "6/6 [==============================] - 0s 3ms/step - loss: 0.0446 - accuracy: 0.9944 - val_loss: 0.2961 - val_accuracy: 0.8889\n",
      "Epoch 112/120\n",
      "6/6 [==============================] - 0s 3ms/step - loss: 0.0442 - accuracy: 0.9944 - val_loss: 0.2962 - val_accuracy: 0.8889\n",
      "Epoch 113/120\n",
      "6/6 [==============================] - 0s 3ms/step - loss: 0.0438 - accuracy: 0.9944 - val_loss: 0.2963 - val_accuracy: 0.8889\n",
      "Epoch 114/120\n",
      "6/6 [==============================] - 0s 3ms/step - loss: 0.0433 - accuracy: 0.9944 - val_loss: 0.2978 - val_accuracy: 0.8889\n",
      "Epoch 115/120\n",
      "6/6 [==============================] - 0s 3ms/step - loss: 0.0431 - accuracy: 0.9944 - val_loss: 0.2982 - val_accuracy: 0.8889\n",
      "Epoch 116/120\n",
      "6/6 [==============================] - 0s 3ms/step - loss: 0.0427 - accuracy: 0.9944 - val_loss: 0.3008 - val_accuracy: 0.8889\n",
      "Epoch 117/120\n"
     ]
    },
    {
     "name": "stdout",
     "output_type": "stream",
     "text": [
      "6/6 [==============================] - 0s 3ms/step - loss: 0.0422 - accuracy: 0.9944 - val_loss: 0.3003 - val_accuracy: 0.8889\n",
      "Epoch 118/120\n",
      "6/6 [==============================] - 0s 3ms/step - loss: 0.0420 - accuracy: 0.9944 - val_loss: 0.2984 - val_accuracy: 0.8889\n",
      "Epoch 119/120\n",
      "6/6 [==============================] - 0s 4ms/step - loss: 0.0417 - accuracy: 0.9944 - val_loss: 0.2996 - val_accuracy: 0.8889\n",
      "Epoch 120/120\n",
      "6/6 [==============================] - 0s 3ms/step - loss: 0.0412 - accuracy: 0.9944 - val_loss: 0.3003 - val_accuracy: 0.8889\n"
     ]
    }
   ],
   "source": [
    "# Training model\n",
    "train_history = model.fit(x_train, y_train, epochs=120, validation_data=(x_test, y_test))"
   ]
  },
  {
   "cell_type": "markdown",
   "id": "605f90df",
   "metadata": {},
   "source": [
    "### Model training accuracy"
   ]
  },
  {
   "cell_type": "code",
   "execution_count": 13,
   "id": "b2e22d99",
   "metadata": {},
   "outputs": [
    {
     "data": {
      "image/png": "[encoded data removed]",
      "text/plain": [
       "<Figure size 432x288 with 1 Axes>"
      ]
     },
     "metadata": {
      "needs_background": "light"
     },
     "output_type": "display_data"
    }
   ],
   "source": [
    "plt.plot(train_history.history['accuracy'])\n",
    "plt.plot(train_history.history['val_accuracy'])\n",
    "plt.title('Model Accuracy')\n",
    "plt.ylabel('accuracy')\n",
    "plt.xlabel('epoch')\n",
    "plt.legend(['train', 'test'])\n",
    "plt.show()"
   ]
  },
  {
   "cell_type": "code",
   "execution_count": 14,
   "id": "38055aaa",
   "metadata": {},
   "outputs": [
    {
     "data": {
      "image/png": "[encoded data removed]",
      "text/plain": [
       "<Figure size 432x288 with 1 Axes>"
      ]
     },
     "metadata": {
      "needs_background": "light"
     },
     "output_type": "display_data"
    }
   ],
   "source": [
    "# Model Loss\n",
    "plt.plot(train_history.history['loss'])\n",
    "plt.plot(train_history.history['val_loss'])\n",
    "plt.title('Model Loss')\n",
    "plt.ylabel('Loss')\n",
    "plt.xlabel('epoch')\n",
    "plt.legend(['train', 'test'])\n",
    "plt.show()"
   ]
  },
  {
   "cell_type": "markdown",
   "id": "02262c5f",
   "metadata": {},
   "source": [
    "### Model Evaluation"
   ]
  },
  {
   "cell_type": "code",
   "execution_count": 15,
   "id": "67cc4b3e",
   "metadata": {},
   "outputs": [
    {
     "name": "stdout",
     "output_type": "stream",
     "text": [
      "2/2 [==============================] - 0s 2ms/step - loss: 0.3003 - accuracy: 0.8889\n",
      "\n",
      "Test Loss: 0.300\n",
      "Test Accuracy: 88.889%\n"
     ]
    }
   ],
   "source": [
    "loss, acc = model.evaluate(x_test, y_test)\n",
    "\n",
    "print()\n",
    "print(\"Test Loss: {:.3f}\".format(loss))\n",
    "print(\"Test Accuracy: {:.3f}%\".format(acc*100))"
   ]
  },
  {
   "cell_type": "code",
   "execution_count": 16,
   "id": "8a9b392c",
   "metadata": {},
   "outputs": [],
   "source": [
    "y_pred = model.predict(x_test)\n",
    "y_pred = np.argmax(y_pred, axis=1)"
   ]
  },
  {
   "cell_type": "code",
   "execution_count": 17,
   "id": "6d413d83",
   "metadata": {},
   "outputs": [
    {
     "name": "stdout",
     "output_type": "stream",
     "text": [
      "Accuracy Score: 88.89%\n",
      "\n",
      "Precision Score: 90.16%\n",
      "\n",
      "Recall Score: 88.73%\n",
      "\n",
      "F1 Score: 89.32%\n"
     ]
    }
   ],
   "source": [
    "from sklearn import metrics\n",
    "\n",
    "print('Accuracy Score: {:.2f}%'.format(metrics.accuracy_score(y_test, y_pred)*100))  \n",
    "print('')\n",
    "print('Precision Score: {:.2f}%'.format(metrics.precision_score(y_test, y_pred, average=\"macro\")*100)) \n",
    "print('')\n",
    "print('Recall Score: {:.2f}%'.format(metrics.recall_score(y_test, y_pred, average=\"macro\")*100))\n",
    "print('')\n",
    "print('F1 Score: {:.2f}%'.format(metrics.f1_score(y_test, y_pred, average=\"macro\")*100))"
   ]
  },
  {
   "cell_type": "code",
   "execution_count": 18,
   "id": "66b3b0a5",
   "metadata": {},
   "outputs": [
    {
     "name": "stdout",
     "output_type": "stream",
     "text": [
      "              precision    recall  f1-score   support\n",
      "\n",
      " Blockbuster       0.90      0.90      0.90        21\n",
      "         Hit       1.00      0.90      0.95        10\n",
      "        Flop       0.80      0.86      0.83        14\n",
      "\n",
      "    accuracy                           0.89        45\n",
      "   macro avg       0.90      0.89      0.89        45\n",
      "weighted avg       0.89      0.89      0.89        45\n",
      "\n"
     ]
    }
   ],
   "source": [
    "from sklearn.metrics import classification_report\n",
    "\n",
    "print(classification_report(y_test, y_pred, target_names=['Blockbuster', 'Hit', 'Flop']))"
   ]
  },
  {
   "cell_type": "code",
   "execution_count": null,
   "id": "61a0335f",
   "metadata": {},
   "outputs": [],
   "source": []
  }
 ],
 "metadata": {
  "kernelspec": {
   "display_name": "Python 3 (ipykernel)",
   "language": "python",
   "name": "python3"
  },
  "language_info": {
   "codemirror_mode": {
    "name": "ipython",
    "version": 3
   },
   "file_extension": ".py",
   "mimetype": "text/x-python",
   "name": "python",
   "nbconvert_exporter": "python",
   "pygments_lexer": "ipython3",
   "version": "3.8.0"
  }
 },
 "nbformat": 4,
 "nbformat_minor": 5
}
